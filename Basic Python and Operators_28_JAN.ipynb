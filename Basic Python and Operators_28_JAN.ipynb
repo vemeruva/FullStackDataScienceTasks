{
 "cells": [
  {
   "cell_type": "markdown",
   "id": "f89fff35-7a6d-4e66-9d51-9d7305379929",
   "metadata": {},
   "source": [
    "# Basics of Python"
   ]
  },
  {
   "cell_type": "code",
   "execution_count": 1,
   "id": "a345a034-9345-4113-b9c1-90757c28596c",
   "metadata": {},
   "outputs": [
    {
     "data": {
      "text/plain": [
       "2"
      ]
     },
     "execution_count": 1,
     "metadata": {},
     "output_type": "execute_result"
    }
   ],
   "source": [
    "1 + 1 "
   ]
  },
  {
   "cell_type": "code",
   "execution_count": 6,
   "id": "0d2ff745-4272-416d-90ed-bcfe320a7f32",
   "metadata": {},
   "outputs": [
    {
     "data": {
      "text/plain": [
       "1"
      ]
     },
     "execution_count": 6,
     "metadata": {},
     "output_type": "execute_result"
    }
   ],
   "source": [
    "2-1 # subtraction"
   ]
  },
  {
   "cell_type": "code",
   "execution_count": 8,
   "id": "652c0f4e-4f2a-4055-b5f8-af1d5c2b8430",
   "metadata": {},
   "outputs": [
    {
     "data": {
      "text/plain": [
       "12"
      ]
     },
     "execution_count": 8,
     "metadata": {},
     "output_type": "execute_result"
    }
   ],
   "source": [
    "3*4 #Multiplication"
   ]
  },
  {
   "cell_type": "code",
   "execution_count": 10,
   "id": "1b0b7389-ae27-4b89-a5bc-0a33d0805c6b",
   "metadata": {},
   "outputs": [
    {
     "data": {
      "text/plain": [
       "2.0"
      ]
     },
     "execution_count": 10,
     "metadata": {},
     "output_type": "execute_result"
    }
   ],
   "source": [
    "4/2 #float division"
   ]
  },
  {
   "cell_type": "code",
   "execution_count": 12,
   "id": "22fcd4ae-c1fe-4c8c-9fca-695e2da9aa63",
   "metadata": {},
   "outputs": [
    {
     "data": {
      "text/plain": [
       "5"
      ]
     },
     "execution_count": 12,
     "metadata": {},
     "output_type": "execute_result"
    }
   ],
   "source": [
    "10//2  #integer division"
   ]
  },
  {
   "cell_type": "code",
   "execution_count": 14,
   "id": "474d40e3-ba5c-4bf4-a3ca-35512e6d25f4",
   "metadata": {},
   "outputs": [
    {
     "data": {
      "text/plain": [
       "30"
      ]
     },
     "execution_count": 14,
     "metadata": {},
     "output_type": "execute_result"
    }
   ],
   "source": [
    "5 + 5 * 5"
   ]
  },
  {
   "cell_type": "code",
   "execution_count": 16,
   "id": "122c8e38-8e9a-4b30-9120-0d9603612f98",
   "metadata": {},
   "outputs": [
    {
     "data": {
      "text/plain": [
       "50"
      ]
     },
     "execution_count": 16,
     "metadata": {},
     "output_type": "execute_result"
    }
   ],
   "source": [
    "(5 + 5) * 5 # BODMAS (Bracket || Oders || Divide || Multiply || Add || Substact)"
   ]
  },
  {
   "cell_type": "code",
   "execution_count": 18,
   "id": "591a70a6-d6b2-4aef-be8a-d1eff6264d38",
   "metadata": {},
   "outputs": [
    {
     "data": {
      "text/plain": [
       "32"
      ]
     },
     "execution_count": 18,
     "metadata": {},
     "output_type": "execute_result"
    }
   ],
   "source": [
    "2 * 2 * 2 * 2 * 2 # exponentaion"
   ]
  },
  {
   "cell_type": "code",
   "execution_count": 20,
   "id": "4e7f3e8b-396c-432e-89d5-4b21be5be2d6",
   "metadata": {},
   "outputs": [
    {
     "data": {
      "text/plain": [
       "32"
      ]
     },
     "execution_count": 20,
     "metadata": {},
     "output_type": "execute_result"
    }
   ],
   "source": [
    "2**5 # exponentation"
   ]
  },
  {
   "cell_type": "code",
   "execution_count": 22,
   "id": "0724f0d0-8986-42b2-98d3-a73be7307c13",
   "metadata": {},
   "outputs": [
    {
     "data": {
      "text/plain": [
       "1"
      ]
     },
     "execution_count": 22,
     "metadata": {},
     "output_type": "execute_result"
    }
   ],
   "source": [
    "15 % 2 # Modulus "
   ]
  },
  {
   "cell_type": "code",
   "execution_count": 24,
   "id": "742691db-dcb3-4a1b-9f77-201fbe1b7f2b",
   "metadata": {},
   "outputs": [
    {
     "data": {
      "text/plain": [
       "0"
      ]
     },
     "execution_count": 24,
     "metadata": {},
     "output_type": "execute_result"
    }
   ],
   "source": [
    "10 % 5"
   ]
  },
  {
   "cell_type": "code",
   "execution_count": 26,
   "id": "113bae49-e172-4c4f-8e11-6be5932c10b9",
   "metadata": {},
   "outputs": [
    {
     "ename": "SyntaxError",
     "evalue": "invalid syntax (1768330815.py, line 1)",
     "output_type": "error",
     "traceback": [
      "\u001b[1;36m  Cell \u001b[1;32mIn[26], line 1\u001b[1;36m\u001b[0m\n\u001b[1;33m    15 %% 2\u001b[0m\n\u001b[1;37m        ^\u001b[0m\n\u001b[1;31mSyntaxError\u001b[0m\u001b[1;31m:\u001b[0m invalid syntax\n"
     ]
    }
   ],
   "source": [
    "15 %% 2"
   ]
  },
  {
   "cell_type": "code",
   "execution_count": 28,
   "id": "24713232-9225-4989-86a6-a977d06e848b",
   "metadata": {},
   "outputs": [
    {
     "ename": "TypeError",
     "evalue": "unsupported operand type(s) for +: 'int' and 'str'",
     "output_type": "error",
     "traceback": [
      "\u001b[1;31m---------------------------------------------------------------------------\u001b[0m",
      "\u001b[1;31mTypeError\u001b[0m                                 Traceback (most recent call last)",
      "Cell \u001b[1;32mIn[28], line 1\u001b[0m\n\u001b[1;32m----> 1\u001b[0m \u001b[38;5;241m3\u001b[39m \u001b[38;5;241m+\u001b[39m \u001b[38;5;124m'\u001b[39m\u001b[38;5;124mnit\u001b[39m\u001b[38;5;124m'\u001b[39m\n",
      "\u001b[1;31mTypeError\u001b[0m: unsupported operand type(s) for +: 'int' and 'str'"
     ]
    }
   ],
   "source": [
    "3 + 'nit' # You can not add integer with string"
   ]
  },
  {
   "cell_type": "code",
   "execution_count": 30,
   "id": "1320ecad-5348-45e9-89e2-2b728c565429",
   "metadata": {},
   "outputs": [
    {
     "data": {
      "text/plain": [
       "'nitnitnit'"
      ]
     },
     "execution_count": 30,
     "metadata": {},
     "output_type": "execute_result"
    }
   ],
   "source": [
    "3*'nit'"
   ]
  },
  {
   "cell_type": "code",
   "execution_count": 32,
   "id": "d79717fd-a12f-4436-a9d4-a44474aa191a",
   "metadata": {},
   "outputs": [
    {
     "data": {
      "text/plain": [
       "' nit nit nit'"
      ]
     },
     "execution_count": 32,
     "metadata": {},
     "output_type": "execute_result"
    }
   ],
   "source": [
    "3*' nit'"
   ]
  },
  {
   "cell_type": "code",
   "execution_count": 34,
   "id": "5c2e1667-9360-4e67-a47d-03a0ea88b0d7",
   "metadata": {},
   "outputs": [
    {
     "name": "stdout",
     "output_type": "stream",
     "text": [
      "15\n",
      "7.8\n",
      "nit\n",
      "(8+9j)\n",
      "True\n"
     ]
    }
   ],
   "source": [
    "a,b,c,d,e = 15, 7.8, 'nit', 8+9j, True\n",
    "\n",
    "print(a)\n",
    "print(b)\n",
    "print(c)\n",
    "print(d)\n",
    "print(e)"
   ]
  },
  {
   "cell_type": "code",
   "execution_count": 36,
   "id": "fe80eb9f-4eb3-402a-8454-46a6b48080d8",
   "metadata": {},
   "outputs": [
    {
     "name": "stdout",
     "output_type": "stream",
     "text": [
      "<class 'int'>\n",
      "<class 'float'>\n",
      "<class 'str'>\n",
      "<class 'complex'>\n",
      "<class 'bool'>\n"
     ]
    }
   ],
   "source": [
    "print(type(a))\n",
    "print(type(b))\n",
    "print(type(c))\n",
    "print(type(d))\n",
    "print(type(e))"
   ]
  },
  {
   "cell_type": "code",
   "execution_count": 38,
   "id": "7ba93001-e421-4ae4-9862-f213065b45c0",
   "metadata": {},
   "outputs": [
    {
     "data": {
      "text/plain": [
       "'Naresh IT'"
      ]
     },
     "execution_count": 38,
     "metadata": {},
     "output_type": "execute_result"
    }
   ],
   "source": [
    "'Naresh IT'"
   ]
  },
  {
   "cell_type": "code",
   "execution_count": 40,
   "id": "9e8ced75-6424-4419-9a50-8bd33224fc47",
   "metadata": {},
   "outputs": [
    {
     "name": "stdout",
     "output_type": "stream",
     "text": [
      "Max it\n"
     ]
    }
   ],
   "source": [
    "print('Max it')"
   ]
  },
  {
   "cell_type": "code",
   "execution_count": 42,
   "id": "029fed26-23d5-45bb-a66c-52b2da2b77f2",
   "metadata": {},
   "outputs": [
    {
     "data": {
      "text/plain": [
       "'max it technology'"
      ]
     },
     "execution_count": 42,
     "metadata": {},
     "output_type": "execute_result"
    }
   ],
   "source": [
    "\"max it technology\""
   ]
  },
  {
   "cell_type": "code",
   "execution_count": 44,
   "id": "428e98ce-910e-45f1-9454-6b60f63a3032",
   "metadata": {},
   "outputs": [
    {
     "data": {
      "text/plain": [
       "'max it technology'"
      ]
     },
     "execution_count": 44,
     "metadata": {},
     "output_type": "execute_result"
    }
   ],
   "source": [
    "s1 = 'max it technology'\n",
    "s1"
   ]
  },
  {
   "cell_type": "code",
   "execution_count": 46,
   "id": "4cc6fe8e-8d4a-4f55-b776-7a82baaf67a0",
   "metadata": {},
   "outputs": [
    {
     "data": {
      "text/plain": [
       "5"
      ]
     },
     "execution_count": 46,
     "metadata": {},
     "output_type": "execute_result"
    }
   ],
   "source": [
    "a = 2\n",
    "b = 3\n",
    "a + b"
   ]
  },
  {
   "cell_type": "code",
   "execution_count": 48,
   "id": "5fc8c206-2f0c-4cd4-85ee-a32925c11396",
   "metadata": {},
   "outputs": [
    {
     "data": {
      "text/plain": [
       "5"
      ]
     },
     "execution_count": 48,
     "metadata": {},
     "output_type": "execute_result"
    }
   ],
   "source": [
    "c = a+b\n",
    "c"
   ]
  },
  {
   "cell_type": "code",
   "execution_count": 50,
   "id": "12f650d0-d93a-401b-8b96-9fae047baa7a",
   "metadata": {},
   "outputs": [
    {
     "data": {
      "text/plain": [
       "str"
      ]
     },
     "execution_count": 50,
     "metadata": {},
     "output_type": "execute_result"
    }
   ],
   "source": [
    "a = 3\n",
    "b = 'hi'\n",
    "type(b)"
   ]
  },
  {
   "cell_type": "code",
   "execution_count": 52,
   "id": "d6b0a05b-ee70-4458-bde4-3b998b534a35",
   "metadata": {},
   "outputs": [
    {
     "name": "stdout",
     "output_type": "stream",
     "text": [
      "'It's Naresh IT Technology\n"
     ]
    }
   ],
   "source": [
    "print(\"'It's Naresh IT Technology\")"
   ]
  },
  {
   "cell_type": "code",
   "execution_count": 54,
   "id": "a1a6579f-ea56-490a-9fb3-5cbaef3dec1a",
   "metadata": {},
   "outputs": [
    {
     "ename": "SyntaxError",
     "evalue": "unterminated string literal (detected at line 1) (2850424601.py, line 1)",
     "output_type": "error",
     "traceback": [
      "\u001b[1;36m  Cell \u001b[1;32mIn[54], line 1\u001b[1;36m\u001b[0m\n\u001b[1;33m    print('max it's\"Technology\"')\u001b[0m\n\u001b[1;37m                               ^\u001b[0m\n\u001b[1;31mSyntaxError\u001b[0m\u001b[1;31m:\u001b[0m unterminated string literal (detected at line 1)\n"
     ]
    }
   ],
   "source": [
    "print('max it's\"Technology\"') "
   ]
  },
  {
   "cell_type": "code",
   "execution_count": 56,
   "id": "3221330d-908b-4423-9e35-663f59f8612b",
   "metadata": {},
   "outputs": [
    {
     "name": "stdout",
     "output_type": "stream",
     "text": [
      "It's Naresh IT Technology\n"
     ]
    }
   ],
   "source": [
    "print('It\\'s Naresh IT Technology')#\\ has some special meaning to ignore the error"
   ]
  },
  {
   "cell_type": "code",
   "execution_count": 58,
   "id": "a154d2b2-f0ab-4e00-b8f1-97b261190c51",
   "metadata": {},
   "outputs": [
    {
     "name": "stdout",
     "output_type": "stream",
     "text": [
      "max it Technology\n"
     ]
    }
   ],
   "source": [
    "print('max it',  'Technology')"
   ]
  },
  {
   "cell_type": "code",
   "execution_count": 60,
   "id": "018463bf-5196-4c93-94b9-0d35e43acd08",
   "metadata": {},
   "outputs": [
    {
     "name": "stdout",
     "output_type": "stream",
     "text": [
      "max it',  'Technology\n"
     ]
    }
   ],
   "source": [
    "print(\"max it',  'Technology\")"
   ]
  },
  {
   "cell_type": "code",
   "execution_count": 62,
   "id": "73a5b9c7-ccca-4916-ae9e-32dfc65188c8",
   "metadata": {},
   "outputs": [
    {
     "data": {
      "text/plain": [
       "'name name'"
      ]
     },
     "execution_count": 62,
     "metadata": {},
     "output_type": "execute_result"
    }
   ],
   "source": [
    "# print the name 2 times \n",
    "'name' + ' name'"
   ]
  },
  {
   "cell_type": "code",
   "execution_count": 64,
   "id": "758dcad0-861a-4c2b-a55b-01e8d410421f",
   "metadata": {},
   "outputs": [
    {
     "data": {
      "text/plain": [
       "'name name'"
      ]
     },
     "execution_count": 64,
     "metadata": {},
     "output_type": "execute_result"
    }
   ],
   "source": [
    "'name' ' name'"
   ]
  },
  {
   "cell_type": "code",
   "execution_count": 68,
   "id": "20c20cf4-8bb4-4fce-bdf7-f86e95281978",
   "metadata": {},
   "outputs": [
    {
     "data": {
      "text/plain": [
       "'Sriram Sriram Sriram Sriram Sriram '"
      ]
     },
     "execution_count": 68,
     "metadata": {},
     "output_type": "execute_result"
    }
   ],
   "source": [
    "#print amruta 5 times\n",
    "5*'Sriram '"
   ]
  },
  {
   "cell_type": "code",
   "execution_count": 70,
   "id": "3890e557-3330-4757-b8a6-7c5f1b6d1f2d",
   "metadata": {},
   "outputs": [
    {
     "name": "stdout",
     "output_type": "stream",
     "text": [
      "c:\n",
      "it\n"
     ]
    }
   ],
   "source": [
    "print('c:\\nit') #\\n -- new line"
   ]
  },
  {
   "cell_type": "code",
   "execution_count": 72,
   "id": "e99f70b3-2914-43a4-85f4-12211586a530",
   "metadata": {},
   "outputs": [
    {
     "name": "stdout",
     "output_type": "stream",
     "text": [
      "c:\\nit\n"
     ]
    }
   ],
   "source": [
    "print(r'c:\\nit') #raw string"
   ]
  },
  {
   "cell_type": "markdown",
   "id": "edb8eae6-f17f-4d53-bfc1-ee8e055c7b3f",
   "metadata": {},
   "source": [
    "# Variable || Identifier || Object"
   ]
  },
  {
   "cell_type": "code",
   "execution_count": 75,
   "id": "10bce50a-0777-4a1b-94b2-a1afbe82b001",
   "metadata": {},
   "outputs": [
    {
     "data": {
      "text/plain": [
       "10"
      ]
     },
     "execution_count": 75,
     "metadata": {},
     "output_type": "execute_result"
    }
   ],
   "source": [
    "x = 10 #x is variable/identifier/objec, 10 is the value\n",
    "x"
   ]
  },
  {
   "cell_type": "code",
   "execution_count": 77,
   "id": "a3aed0a1-8bd2-42e2-aa52-eb0e30b19d27",
   "metadata": {},
   "outputs": [
    {
     "data": {
      "text/plain": [
       "13"
      ]
     },
     "execution_count": 77,
     "metadata": {},
     "output_type": "execute_result"
    }
   ],
   "source": [
    "x + 3"
   ]
  },
  {
   "cell_type": "code",
   "execution_count": 79,
   "id": "3e2d04a3-5eb2-43c1-9a29-0cbd0780c4ff",
   "metadata": {},
   "outputs": [
    {
     "data": {
      "text/plain": [
       "3"
      ]
     },
     "execution_count": 79,
     "metadata": {},
     "output_type": "execute_result"
    }
   ],
   "source": [
    "y = 3\n",
    "y"
   ]
  },
  {
   "cell_type": "code",
   "execution_count": 83,
   "id": "bad013ce-96d5-42d4-9155-4a90f48651a6",
   "metadata": {},
   "outputs": [
    {
     "data": {
      "text/plain": [
       "13"
      ]
     },
     "execution_count": 83,
     "metadata": {},
     "output_type": "execute_result"
    }
   ],
   "source": [
    "x+y"
   ]
  },
  {
   "cell_type": "code",
   "execution_count": 103,
   "id": "d3a2d1e3-9918-463d-99d6-9b3c3f33f6df",
   "metadata": {},
   "outputs": [
    {
     "data": {
      "text/plain": [
       "-3"
      ]
     },
     "execution_count": 103,
     "metadata": {},
     "output_type": "execute_result"
    }
   ],
   "source": [
    "-+ y # _ understand the previous result of the "
   ]
  },
  {
   "cell_type": "code",
   "execution_count": 101,
   "id": "5c5a9e4c-8ad1-41a9-b22d-bece3720f5f4",
   "metadata": {},
   "outputs": [
    {
     "data": {
      "text/plain": [
       "-3"
      ]
     },
     "execution_count": 101,
     "metadata": {},
     "output_type": "execute_result"
    }
   ],
   "source": [
    "- + y"
   ]
  },
  {
   "cell_type": "code",
   "execution_count": 95,
   "id": "8a3bb1b5-634e-492f-934b-57a65cced0e9",
   "metadata": {},
   "outputs": [
    {
     "data": {
      "text/plain": [
       "-3"
      ]
     },
     "execution_count": 95,
     "metadata": {},
     "output_type": "execute_result"
    }
   ],
   "source": [
    "- + y"
   ]
  },
  {
   "cell_type": "code",
   "execution_count": 105,
   "id": "db311af1-bf48-41d3-8962-af9bff8c56fe",
   "metadata": {},
   "outputs": [
    {
     "data": {
      "text/plain": [
       "'hyderabad'"
      ]
     },
     "execution_count": 105,
     "metadata": {},
     "output_type": "execute_result"
    }
   ],
   "source": [
    "# string variable \n",
    "name = 'hyderabad'\n",
    "name"
   ]
  },
  {
   "cell_type": "code",
   "execution_count": 109,
   "id": "4cc42361-0737-47e9-9a0d-79855cd7e022",
   "metadata": {},
   "outputs": [
    {
     "data": {
      "text/plain": [
       "'hyderabad technology'"
      ]
     },
     "execution_count": 109,
     "metadata": {},
     "output_type": "execute_result"
    }
   ],
   "source": [
    "name + ' technology'"
   ]
  },
  {
   "cell_type": "code",
   "execution_count": 111,
   "id": "dbdfb538-dc5b-44b9-a7a4-4c957ae2cf4d",
   "metadata": {},
   "outputs": [
    {
     "data": {
      "text/plain": [
       "('hyderabad', 'technology')"
      ]
     },
     "execution_count": 111,
     "metadata": {},
     "output_type": "execute_result"
    }
   ],
   "source": [
    "name , 'technology'"
   ]
  },
  {
   "cell_type": "code",
   "execution_count": 113,
   "id": "5828e763-d545-47b7-b7d0-fde7b3e0207f",
   "metadata": {},
   "outputs": [
    {
     "data": {
      "text/plain": [
       "9"
      ]
     },
     "execution_count": 113,
     "metadata": {},
     "output_type": "execute_result"
    }
   ],
   "source": [
    "len(name)"
   ]
  },
  {
   "cell_type": "code",
   "execution_count": 115,
   "id": "594941c0-bde6-43ca-bd31-080c16bd448f",
   "metadata": {},
   "outputs": [
    {
     "data": {
      "text/plain": [
       "'b'"
      ]
     },
     "execution_count": 115,
     "metadata": {},
     "output_type": "execute_result"
    }
   ],
   "source": [
    "name[6] #python index begins with 0"
   ]
  },
  {
   "cell_type": "code",
   "execution_count": 117,
   "id": "eb327150-af2e-4494-a86f-6776cf1456bc",
   "metadata": {},
   "outputs": [
    {
     "data": {
      "text/plain": [
       "'a'"
      ]
     },
     "execution_count": 117,
     "metadata": {},
     "output_type": "execute_result"
    }
   ],
   "source": [
    "name[5] #python index begins with 0"
   ]
  },
  {
   "cell_type": "code",
   "execution_count": 119,
   "id": "1659c916-f79e-4334-ad51-9dffe40b9336",
   "metadata": {},
   "outputs": [
    {
     "data": {
      "text/plain": [
       "'d'"
      ]
     },
     "execution_count": 119,
     "metadata": {},
     "output_type": "execute_result"
    }
   ],
   "source": [
    "name[2] #python index begins with 0"
   ]
  },
  {
   "cell_type": "code",
   "execution_count": 121,
   "id": "2bd6d7a5-cc7f-4b2e-9126-74da522a9112",
   "metadata": {},
   "outputs": [
    {
     "data": {
      "text/plain": [
       "'d'"
      ]
     },
     "execution_count": 121,
     "metadata": {},
     "output_type": "execute_result"
    }
   ],
   "source": [
    "name[-1]"
   ]
  },
  {
   "cell_type": "code",
   "execution_count": 123,
   "id": "69f2bd88-ad85-4b45-bccc-bc6499bc8d22",
   "metadata": {},
   "outputs": [
    {
     "data": {
      "text/plain": [
       "'a'"
      ]
     },
     "execution_count": 123,
     "metadata": {},
     "output_type": "execute_result"
    }
   ],
   "source": [
    "name[-2]"
   ]
  },
  {
   "cell_type": "code",
   "execution_count": 125,
   "id": "c7486ede-2218-4491-b364-2bd781d071d1",
   "metadata": {},
   "outputs": [
    {
     "data": {
      "text/plain": [
       "'e'"
      ]
     },
     "execution_count": 125,
     "metadata": {},
     "output_type": "execute_result"
    }
   ],
   "source": [
    "name[-6]"
   ]
  },
  {
   "cell_type": "markdown",
   "id": "39e48cfb-7ee5-4847-b93b-be26f3458014",
   "metadata": {},
   "source": [
    "# Slicing"
   ]
  },
  {
   "cell_type": "code",
   "execution_count": 128,
   "id": "d918fecf-14c6-4a1f-9960-23331e22e3c1",
   "metadata": {},
   "outputs": [
    {
     "data": {
      "text/plain": [
       "'hyderabad'"
      ]
     },
     "execution_count": 128,
     "metadata": {},
     "output_type": "execute_result"
    }
   ],
   "source": [
    "name"
   ]
  },
  {
   "cell_type": "code",
   "execution_count": 130,
   "id": "b69b0207-73fc-44e3-a392-3d4764c20ab7",
   "metadata": {},
   "outputs": [
    {
     "data": {
      "text/plain": [
       "'h'"
      ]
     },
     "execution_count": 130,
     "metadata": {},
     "output_type": "execute_result"
    }
   ],
   "source": [
    "name[0:1]"
   ]
  },
  {
   "cell_type": "code",
   "execution_count": 132,
   "id": "223a6e7c-109f-4dad-bf78-1ff984067575",
   "metadata": {},
   "outputs": [
    {
     "data": {
      "text/plain": [
       "'hy'"
      ]
     },
     "execution_count": 132,
     "metadata": {},
     "output_type": "execute_result"
    }
   ],
   "source": [
    "name[0:2]"
   ]
  },
  {
   "cell_type": "code",
   "execution_count": 134,
   "id": "95489181-11da-4d57-8ae9-e296224555e0",
   "metadata": {},
   "outputs": [
    {
     "data": {
      "text/plain": [
       "'yde'"
      ]
     },
     "execution_count": 134,
     "metadata": {},
     "output_type": "execute_result"
    }
   ],
   "source": [
    "name[1:4]"
   ]
  },
  {
   "cell_type": "code",
   "execution_count": 136,
   "id": "e8255d51-1c49-413f-a5de-c684e8d0db66",
   "metadata": {},
   "outputs": [
    {
     "data": {
      "text/plain": [
       "'yderabad'"
      ]
     },
     "execution_count": 136,
     "metadata": {},
     "output_type": "execute_result"
    }
   ],
   "source": [
    "name[1:]"
   ]
  },
  {
   "cell_type": "code",
   "execution_count": 138,
   "id": "1f8dd679-cda8-4f80-b77c-d47c3a563d46",
   "metadata": {},
   "outputs": [
    {
     "data": {
      "text/plain": [
       "'hyderabad'"
      ]
     },
     "execution_count": 138,
     "metadata": {},
     "output_type": "execute_result"
    }
   ],
   "source": [
    "name[:]"
   ]
  },
  {
   "cell_type": "code",
   "execution_count": 140,
   "id": "1b79f878-d0ce-4f1a-abe4-6005bb8783a8",
   "metadata": {},
   "outputs": [
    {
     "data": {
      "text/plain": [
       "'hyde'"
      ]
     },
     "execution_count": 140,
     "metadata": {},
     "output_type": "execute_result"
    }
   ],
   "source": [
    "name[:4]"
   ]
  },
  {
   "cell_type": "code",
   "execution_count": 142,
   "id": "af3ab91a-946f-4884-829b-826ad3bc6631",
   "metadata": {},
   "outputs": [
    {
     "data": {
      "text/plain": [
       "'erabad'"
      ]
     },
     "execution_count": 142,
     "metadata": {},
     "output_type": "execute_result"
    }
   ],
   "source": [
    "name[3:9]"
   ]
  },
  {
   "cell_type": "markdown",
   "id": "92ce2f5a-3f91-4bff-9919-19fcd8a697bd",
   "metadata": {},
   "source": [
    "# Convert String Fine to Dine"
   ]
  },
  {
   "cell_type": "code",
   "execution_count": 145,
   "id": "0b68f1dc-a6a7-4b56-972e-90561d7e30b3",
   "metadata": {},
   "outputs": [
    {
     "data": {
      "text/plain": [
       "'Fine'"
      ]
     },
     "execution_count": 145,
     "metadata": {},
     "output_type": "execute_result"
    }
   ],
   "source": [
    "name = 'Fine'\n",
    "name"
   ]
  },
  {
   "cell_type": "code",
   "execution_count": 147,
   "id": "ce17186b-55cd-4ba6-b669-14e28d7d98d5",
   "metadata": {},
   "outputs": [
    {
     "data": {
      "text/plain": [
       "'ine'"
      ]
     },
     "execution_count": 147,
     "metadata": {},
     "output_type": "execute_result"
    }
   ],
   "source": [
    "name[1:]"
   ]
  },
  {
   "cell_type": "code",
   "execution_count": 149,
   "id": "e75c63d8-30da-4bd7-8333-e161249ef50f",
   "metadata": {},
   "outputs": [
    {
     "data": {
      "text/plain": [
       "'Dine'"
      ]
     },
     "execution_count": 149,
     "metadata": {},
     "output_type": "execute_result"
    }
   ],
   "source": [
    "'D' + name[1:] # Replace F letter with D"
   ]
  },
  {
   "cell_type": "code",
   "execution_count": 153,
   "id": "bd3f2418-d431-4253-a8d6-e3820d625529",
   "metadata": {},
   "outputs": [
    {
     "data": {
      "text/plain": [
       "'Dine'"
      ]
     },
     "execution_count": 153,
     "metadata": {},
     "output_type": "execute_result"
    }
   ],
   "source": [
    "name1 = 'D' + name[1:]\n",
    "name1"
   ]
  },
  {
   "cell_type": "code",
   "execution_count": 155,
   "id": "55ea953c-cd49-4c1c-86e2-7bc96b37b0f7",
   "metadata": {},
   "outputs": [
    {
     "name": "stdout",
     "output_type": "stream",
     "text": [
      "Fine\n",
      "Dine\n"
     ]
    }
   ],
   "source": [
    "print(name)\n",
    "print(name1)"
   ]
  },
  {
   "cell_type": "code",
   "execution_count": 157,
   "id": "c3f722cf-8bad-482b-ab76-bfcf64d889cc",
   "metadata": {},
   "outputs": [
    {
     "name": "stdout",
     "output_type": "stream",
     "text": [
      "Fine\n",
      "Dine\n"
     ]
    }
   ],
   "source": [
    "name = 'Fine'\n",
    "name[1:]\n",
    "name1 = 'D' + name[1:]\n",
    "print(name)\n",
    "print(name1)"
   ]
  },
  {
   "cell_type": "code",
   "execution_count": 159,
   "id": "8b4e1ee8-f8fe-40fa-95a9-688ef7065ce1",
   "metadata": {},
   "outputs": [
    {
     "name": "stdout",
     "output_type": "stream",
     "text": [
      "Glass\n",
      "Grass\n"
     ]
    }
   ],
   "source": [
    "## Convert String Glass to Grass\n",
    "str = 'Glass'\n",
    "str\n",
    "str[0]\n",
    "str[1]\n",
    "str[2:]\n",
    "str1 = str[0] + 'r' + str[2:]\n",
    "print(str)\n",
    "print(str1)"
   ]
  },
  {
   "cell_type": "code",
   "execution_count": 161,
   "id": "6c2c98f8-db27-41fb-bd22-f92afec3f2af",
   "metadata": {},
   "outputs": [
    {
     "name": "stdout",
     "output_type": "stream",
     "text": [
      "change\n",
      "Range\n"
     ]
    }
   ],
   "source": [
    "# Convert string Change to Range\n",
    "\n",
    "str2 = 'change'\n",
    "str[0:2]\n",
    "str[2:]\n",
    "\n",
    "str3 = 'R' + str2[2:]\n",
    "\n",
    "print(str2)\n",
    "print(str3)"
   ]
  },
  {
   "cell_type": "code",
   "execution_count": 165,
   "id": "d50528d0-e7ca-4c86-82e4-d3a83ab053e3",
   "metadata": {},
   "outputs": [],
   "source": [
    "num1 = [1,2,'Accademy',50]"
   ]
  },
  {
   "cell_type": "code",
   "execution_count": 167,
   "id": "527b0442-50e4-4bf7-afaf-01cf85bb2930",
   "metadata": {},
   "outputs": [
    {
     "data": {
      "text/plain": [
       "[1, 2, 'Accademy', 50]"
      ]
     },
     "execution_count": 167,
     "metadata": {},
     "output_type": "execute_result"
    }
   ],
   "source": [
    "num1"
   ]
  },
  {
   "cell_type": "code",
   "execution_count": 169,
   "id": "692f8892-f387-4012-b924-387a2dbbe91f",
   "metadata": {},
   "outputs": [
    {
     "data": {
      "text/plain": [
       "[1, 2, 'Accademy', 'nit', 50]"
      ]
     },
     "execution_count": 169,
     "metadata": {},
     "output_type": "execute_result"
    }
   ],
   "source": [
    "num1.insert(3,'nit') #insert the value as per index values i.e 2nd index we are assigning nit\n",
    "num1"
   ]
  },
  {
   "cell_type": "code",
   "execution_count": 171,
   "id": "f426fbd7-f304-4b40-9c78-8d993851c557",
   "metadata": {},
   "outputs": [
    {
     "data": {
      "text/plain": [
       "[]"
      ]
     },
     "execution_count": 171,
     "metadata": {},
     "output_type": "execute_result"
    }
   ],
   "source": [
    "num1.clear()\n",
    "num1"
   ]
  },
  {
   "cell_type": "markdown",
   "id": "c8fb6446-52e4-43c7-97a9-9844544416c9",
   "metadata": {},
   "source": [
    "# ID"
   ]
  },
  {
   "cell_type": "code",
   "execution_count": 176,
   "id": "29e9f1c5-e366-4b7d-8886-4f65b6305229",
   "metadata": {},
   "outputs": [
    {
     "data": {
      "text/plain": [
       "140718825749048"
      ]
     },
     "execution_count": 176,
     "metadata": {},
     "output_type": "execute_result"
    }
   ],
   "source": [
    "# variable address\n",
    "num = 5\n",
    "id(num)"
   ]
  },
  {
   "cell_type": "code",
   "execution_count": 178,
   "id": "131c4868-5ae6-4fc8-98e1-da5698aa7e97",
   "metadata": {},
   "outputs": [
    {
     "data": {
      "text/plain": [
       "1252446294960"
      ]
     },
     "execution_count": 178,
     "metadata": {},
     "output_type": "execute_result"
    }
   ],
   "source": [
    "name = 'nit'\n",
    "id(name) #Address will be different for both"
   ]
  },
  {
   "cell_type": "code",
   "execution_count": 180,
   "id": "c8d2d1ef-4872-45fe-a070-e906213c5e6a",
   "metadata": {},
   "outputs": [
    {
     "data": {
      "text/plain": [
       "140718825749208"
      ]
     },
     "execution_count": 180,
     "metadata": {},
     "output_type": "execute_result"
    }
   ],
   "source": [
    "a = 10\n",
    "id(a)"
   ]
  },
  {
   "cell_type": "code",
   "execution_count": 184,
   "id": "9335a413-f2ec-4b15-b4a5-e3fc41ba4f65",
   "metadata": {},
   "outputs": [
    {
     "data": {
      "text/plain": [
       "140718825749208"
      ]
     },
     "execution_count": 184,
     "metadata": {},
     "output_type": "execute_result"
    }
   ],
   "source": [
    "k = 10 \n",
    "id(k)"
   ]
  },
  {
   "cell_type": "code",
   "execution_count": 186,
   "id": "f4dcb1c2-48cc-45cf-b92e-29240aa84b57",
   "metadata": {},
   "outputs": [
    {
     "name": "stdout",
     "output_type": "stream",
     "text": [
      "140718825749208\n",
      "140718825749208\n",
      "140718825749208\n"
     ]
    }
   ],
   "source": [
    "b = a #thats why python is more memory efficient \n",
    "print(id(a))\n",
    "print(id(b))\n",
    "print(id(k))"
   ]
  },
  {
   "cell_type": "code",
   "execution_count": null,
   "id": "2c3625e8-912d-4de6-a872-bba4dc433fe4",
   "metadata": {},
   "outputs": [],
   "source": [
    "# what ever the variale we assigned the memory and we not assigned anywhere then we can use as garbage collection.\n",
    "# VARIABLE - we can change the values\n",
    "# ONSTANT - we cannot change the value -can we make VARIABLE as a CONSTANT\n",
    "# (note - in python you cannot make variable as constant)"
   ]
  },
  {
   "cell_type": "code",
   "execution_count": 189,
   "id": "91078c38-a014-4a7b-a049-a64ec9f8bd71",
   "metadata": {},
   "outputs": [
    {
     "data": {
      "text/plain": [
       "3.14"
      ]
     },
     "execution_count": 189,
     "metadata": {},
     "output_type": "execute_result"
    }
   ],
   "source": [
    "PI = 3.14  #in math this is alway constant but python we can chang\n",
    "PI"
   ]
  },
  {
   "cell_type": "code",
   "execution_count": 191,
   "id": "ba0efcf0-e19c-41a9-b796-1543f2c1931d",
   "metadata": {},
   "outputs": [
    {
     "data": {
      "text/plain": [
       "3.15"
      ]
     },
     "execution_count": 191,
     "metadata": {},
     "output_type": "execute_result"
    }
   ],
   "source": [
    "PI = 3.15  #in math this is alway constant but python we can chang\n",
    "PI"
   ]
  },
  {
   "cell_type": "code",
   "execution_count": 193,
   "id": "62a7e0d0-636c-4ac4-8eb7-ea7c353df8c9",
   "metadata": {},
   "outputs": [
    {
     "data": {
      "text/plain": [
       "float"
      ]
     },
     "execution_count": 193,
     "metadata": {},
     "output_type": "execute_result"
    }
   ],
   "source": [
    "type(PI)"
   ]
  },
  {
   "cell_type": "markdown",
   "id": "3b33f69e-4311-421b-aec1-f29a8c1d7dcb",
   "metadata": {},
   "source": [
    "# Operators"
   ]
  },
  {
   "cell_type": "code",
   "execution_count": 198,
   "id": "70faf98c-9eda-4749-8c43-fdc36aa3876c",
   "metadata": {},
   "outputs": [],
   "source": [
    "# 1- ARITHMETIC OPERATOR ( + , -, *, /, %, %%, **, ^\n",
    "# 2- ASSIGNMEN OPERATOR (=)\n",
    "# 3- RELATIONAL OPERATOR (>,<,>=,<=,!=)\n",
    "# 4- LOGICAL OPERATOR (AND,OR,NOT)\n",
    "# 5- UNARY OPERATOR ()"
   ]
  },
  {
   "cell_type": "code",
   "execution_count": 200,
   "id": "ca07ef23-9903-40e8-bb07-870a6f1e4131",
   "metadata": {},
   "outputs": [
    {
     "name": "stdout",
     "output_type": "stream",
     "text": [
      "10\n",
      "5\n"
     ]
    }
   ],
   "source": [
    "x1, y1 = 10, 5\n",
    "print(x1)\n",
    "print(y1)"
   ]
  },
  {
   "cell_type": "code",
   "execution_count": 202,
   "id": "05f69ab3-6dbd-4e36-8c3f-6a5e06d76f1b",
   "metadata": {},
   "outputs": [
    {
     "name": "stdout",
     "output_type": "stream",
     "text": [
      "15\n",
      "5\n",
      "50\n",
      "2.0\n",
      "2\n",
      "0\n",
      "100000\n"
     ]
    }
   ],
   "source": [
    "print(x1  + y1) # Addition\n",
    "print(x1 - y1)  # Subtraction\n",
    "print(x1 * y1) # Multiplication\n",
    "print(x1 / y1)\n",
    "print(x1 // y1)\n",
    "print(x1 % y1)\n",
    "print(x1 ** y1) # Expontial"
   ]
  },
  {
   "cell_type": "markdown",
   "id": "05a9ec28-7e84-497a-bb14-d89a3a6133da",
   "metadata": {},
   "source": [
    "# Assignment operator"
   ]
  },
  {
   "cell_type": "code",
   "execution_count": 205,
   "id": "4cbb9204-9ed7-4d9e-915c-5d75d89911e3",
   "metadata": {},
   "outputs": [],
   "source": [
    "x = 2"
   ]
  },
  {
   "cell_type": "code",
   "execution_count": 207,
   "id": "f04bdbc4-afa1-47c2-8e45-c55b5255f793",
   "metadata": {},
   "outputs": [
    {
     "data": {
      "text/plain": [
       "4"
      ]
     },
     "execution_count": 207,
     "metadata": {},
     "output_type": "execute_result"
    }
   ],
   "source": [
    "x = x + 2 # if you want to increment by 2 \n",
    "x"
   ]
  },
  {
   "cell_type": "code",
   "execution_count": 209,
   "id": "2c85a44d-0ff4-43f3-b179-a84d070dae9f",
   "metadata": {},
   "outputs": [
    {
     "data": {
      "text/plain": [
       "6"
      ]
     },
     "execution_count": 209,
     "metadata": {},
     "output_type": "execute_result"
    }
   ],
   "source": [
    "x += 2\n",
    "x"
   ]
  },
  {
   "cell_type": "code",
   "execution_count": 211,
   "id": "1d8a83cc-dfb1-4c9a-b9f2-e80044352d84",
   "metadata": {},
   "outputs": [
    {
     "data": {
      "text/plain": [
       "12"
      ]
     },
     "execution_count": 211,
     "metadata": {},
     "output_type": "execute_result"
    }
   ],
   "source": [
    "x *= 2\n",
    "x"
   ]
  },
  {
   "cell_type": "code",
   "execution_count": 213,
   "id": "4bd06394-2e06-4278-9b60-5ea10eea31c7",
   "metadata": {},
   "outputs": [
    {
     "data": {
      "text/plain": [
       "10"
      ]
     },
     "execution_count": 213,
     "metadata": {},
     "output_type": "execute_result"
    }
   ],
   "source": [
    "x -=2\n",
    "x"
   ]
  },
  {
   "cell_type": "code",
   "execution_count": 215,
   "id": "891f0a8c-e5eb-463a-ba3c-a4fe421ab2ed",
   "metadata": {},
   "outputs": [
    {
     "data": {
      "text/plain": [
       "5.0"
      ]
     },
     "execution_count": 215,
     "metadata": {},
     "output_type": "execute_result"
    }
   ],
   "source": [
    "x /= 2\n",
    "x"
   ]
  },
  {
   "cell_type": "code",
   "execution_count": 217,
   "id": "b72002f5-98fc-410f-8cda-6d916768bf2a",
   "metadata": {},
   "outputs": [
    {
     "data": {
      "text/plain": [
       "2.0"
      ]
     },
     "execution_count": 217,
     "metadata": {},
     "output_type": "execute_result"
    }
   ],
   "source": [
    "x //= 2\n",
    "x"
   ]
  },
  {
   "cell_type": "markdown",
   "id": "33576e50-426f-4967-9b30-978a3c448b79",
   "metadata": {},
   "source": [
    "# unary operator\n",
    "unary means 1 || binary means 2\n",
    "Here we are applying unary minus operator(-) on the operand n; the value of m becomes -7, which indicates it as a negative value."
   ]
  },
  {
   "cell_type": "code",
   "execution_count": 222,
   "id": "e7a8bc9b-5931-4b07-9c7c-6d2533520280",
   "metadata": {},
   "outputs": [
    {
     "data": {
      "text/plain": [
       "7"
      ]
     },
     "execution_count": 222,
     "metadata": {},
     "output_type": "execute_result"
    }
   ],
   "source": [
    "n = 7 #negattion\n",
    "n"
   ]
  },
  {
   "cell_type": "code",
   "execution_count": 224,
   "id": "106c9155-795f-4f20-9bca-d82e01f48a86",
   "metadata": {},
   "outputs": [
    {
     "data": {
      "text/plain": [
       "-7"
      ]
     },
     "execution_count": 224,
     "metadata": {},
     "output_type": "execute_result"
    }
   ],
   "source": [
    "m = -(n)\n",
    "m"
   ]
  },
  {
   "cell_type": "code",
   "execution_count": 226,
   "id": "8d3b22e8-096a-4176-b425-b910ab03d57b",
   "metadata": {},
   "outputs": [
    {
     "name": "stdout",
     "output_type": "stream",
     "text": [
      "7\n",
      "-7\n"
     ]
    }
   ],
   "source": [
    "print(n)\n",
    "print(-n)"
   ]
  },
  {
   "cell_type": "markdown",
   "id": "710414b6-ce7b-43a6-bddd-72f05ef9a3c2",
   "metadata": {},
   "source": [
    "# Relational operator"
   ]
  },
  {
   "cell_type": "code",
   "execution_count": 231,
   "id": "083149a6-690e-4698-85d7-70a9a2b270ef",
   "metadata": {},
   "outputs": [],
   "source": [
    "a = 5\n",
    "b = 6"
   ]
  },
  {
   "cell_type": "code",
   "execution_count": 233,
   "id": "6facd5ae-2b25-46ad-b16d-c48396a7a02e",
   "metadata": {},
   "outputs": [
    {
     "data": {
      "text/plain": [
       "True"
      ]
     },
     "execution_count": 233,
     "metadata": {},
     "output_type": "execute_result"
    }
   ],
   "source": [
    "a<b"
   ]
  },
  {
   "cell_type": "code",
   "execution_count": 235,
   "id": "a4641004-48a4-44f1-bd7d-36897fae2172",
   "metadata": {},
   "outputs": [
    {
     "data": {
      "text/plain": [
       "False"
      ]
     },
     "execution_count": 235,
     "metadata": {},
     "output_type": "execute_result"
    }
   ],
   "source": [
    "a>b"
   ]
  },
  {
   "cell_type": "code",
   "execution_count": 237,
   "id": "4deef369-1404-446b-b776-51dafd7e0b16",
   "metadata": {},
   "outputs": [
    {
     "data": {
      "text/plain": [
       "False"
      ]
     },
     "execution_count": 237,
     "metadata": {},
     "output_type": "execute_result"
    }
   ],
   "source": [
    "a==b"
   ]
  },
  {
   "cell_type": "code",
   "execution_count": 239,
   "id": "8fad7979-474d-4161-801d-fd9ce0e31edd",
   "metadata": {},
   "outputs": [
    {
     "data": {
      "text/plain": [
       "True"
      ]
     },
     "execution_count": 239,
     "metadata": {},
     "output_type": "execute_result"
    }
   ],
   "source": [
    "a != b"
   ]
  },
  {
   "cell_type": "code",
   "execution_count": 241,
   "id": "9a121b50-c7a7-47c5-9975-1c3be9a8cdfc",
   "metadata": {},
   "outputs": [],
   "source": [
    "# hear if i change b = 6\n",
    "b = 5"
   ]
  },
  {
   "cell_type": "code",
   "execution_count": 243,
   "id": "96e84e08-576a-4d73-9937-9e15359eae16",
   "metadata": {},
   "outputs": [
    {
     "data": {
      "text/plain": [
       "True"
      ]
     },
     "execution_count": 243,
     "metadata": {},
     "output_type": "execute_result"
    }
   ],
   "source": [
    "a == b"
   ]
  },
  {
   "cell_type": "code",
   "execution_count": 245,
   "id": "8ed3d603-5bac-40e5-b1f2-111fef3ad041",
   "metadata": {},
   "outputs": [
    {
     "data": {
      "text/plain": [
       "True"
      ]
     },
     "execution_count": 245,
     "metadata": {},
     "output_type": "execute_result"
    }
   ],
   "source": [
    "a >= b"
   ]
  },
  {
   "cell_type": "code",
   "execution_count": 247,
   "id": "93c1ce08-68cf-45e4-bc71-74225a0668ec",
   "metadata": {},
   "outputs": [
    {
     "data": {
      "text/plain": [
       "True"
      ]
     },
     "execution_count": 247,
     "metadata": {},
     "output_type": "execute_result"
    }
   ],
   "source": [
    "a <= b"
   ]
  },
  {
   "cell_type": "code",
   "execution_count": 249,
   "id": "43a5d04a-3df7-475b-947f-12f264417b88",
   "metadata": {},
   "outputs": [
    {
     "data": {
      "text/plain": [
       "False"
      ]
     },
     "execution_count": 249,
     "metadata": {},
     "output_type": "execute_result"
    }
   ],
   "source": [
    "a < b"
   ]
  },
  {
   "cell_type": "code",
   "execution_count": 251,
   "id": "c546ac62-c989-403a-abf3-e17f2769f264",
   "metadata": {},
   "outputs": [
    {
     "data": {
      "text/plain": [
       "False"
      ]
     },
     "execution_count": 251,
     "metadata": {},
     "output_type": "execute_result"
    }
   ],
   "source": [
    "a>b"
   ]
  },
  {
   "cell_type": "code",
   "execution_count": 253,
   "id": "dc0524e6-be80-42e3-8bdb-663babd52e8d",
   "metadata": {},
   "outputs": [],
   "source": [
    "b = 7"
   ]
  },
  {
   "cell_type": "code",
   "execution_count": 255,
   "id": "91793efc-8d7c-40cb-bf69-7072bd31c58c",
   "metadata": {},
   "outputs": [
    {
     "data": {
      "text/plain": [
       "True"
      ]
     },
     "execution_count": 255,
     "metadata": {},
     "output_type": "execute_result"
    }
   ],
   "source": [
    "a != b"
   ]
  },
  {
   "cell_type": "markdown",
   "id": "0e51b6a9-2791-4332-866c-dc314f3721a2",
   "metadata": {},
   "source": [
    "# LOGICAL OPERATOR\n",
    "logical operator you need to understand about true & false table image.png\n",
    "3 importand part of logical operator is --> AND, OR, NOT"
   ]
  },
  {
   "cell_type": "code",
   "execution_count": 258,
   "id": "6e3ebc3b-0d0d-428a-81aa-cda7ccb03bfc",
   "metadata": {},
   "outputs": [],
   "source": [
    "a = 5\n",
    "b = 4"
   ]
  },
  {
   "cell_type": "code",
   "execution_count": 260,
   "id": "50775ad7-f28f-4ff7-90cd-0df848f45d25",
   "metadata": {},
   "outputs": [
    {
     "data": {
      "text/plain": [
       "True"
      ]
     },
     "execution_count": 260,
     "metadata": {},
     "output_type": "execute_result"
    }
   ],
   "source": [
    "a < 8 and b < 5 #refer to the truth table "
   ]
  },
  {
   "cell_type": "code",
   "execution_count": 262,
   "id": "71ee0921-3988-4724-bedc-07dc041c659f",
   "metadata": {},
   "outputs": [
    {
     "data": {
      "text/plain": [
       "False"
      ]
     },
     "execution_count": 262,
     "metadata": {},
     "output_type": "execute_result"
    }
   ],
   "source": [
    "a < 8 and b < 2"
   ]
  },
  {
   "cell_type": "code",
   "execution_count": 264,
   "id": "a0688aa0-dc00-426d-ab59-31dd1e20b673",
   "metadata": {},
   "outputs": [
    {
     "data": {
      "text/plain": [
       "True"
      ]
     },
     "execution_count": 264,
     "metadata": {},
     "output_type": "execute_result"
    }
   ],
   "source": [
    "a < 8 or b < 2"
   ]
  },
  {
   "cell_type": "code",
   "execution_count": 266,
   "id": "7d4211e7-5dd4-48a3-bfe3-6dd77147d594",
   "metadata": {},
   "outputs": [
    {
     "data": {
      "text/plain": [
       "False"
      ]
     },
     "execution_count": 266,
     "metadata": {},
     "output_type": "execute_result"
    }
   ],
   "source": [
    "a>8 or b<2"
   ]
  },
  {
   "cell_type": "code",
   "execution_count": 268,
   "id": "a854d059-ada8-481e-a415-af76b1e6d9c6",
   "metadata": {},
   "outputs": [
    {
     "data": {
      "text/plain": [
       "False"
      ]
     },
     "execution_count": 268,
     "metadata": {},
     "output_type": "execute_result"
    }
   ],
   "source": [
    "x = False\n",
    "x"
   ]
  },
  {
   "cell_type": "code",
   "execution_count": 270,
   "id": "1887c97f-93e8-4a73-8c43-5669d2921f60",
   "metadata": {},
   "outputs": [
    {
     "data": {
      "text/plain": [
       "True"
      ]
     },
     "execution_count": 270,
     "metadata": {},
     "output_type": "execute_result"
    }
   ],
   "source": [
    "not x  # you can reverse the operation"
   ]
  },
  {
   "cell_type": "markdown",
   "id": "6f20b23c-a83c-432e-ba33-efa48c8b0ee0",
   "metadata": {},
   "source": [
    "# Swipe 2 Variables"
   ]
  },
  {
   "cell_type": "code",
   "execution_count": 273,
   "id": "dd342a4c-836e-4adc-828f-0eccc8aa9e66",
   "metadata": {},
   "outputs": [
    {
     "name": "stdout",
     "output_type": "stream",
     "text": [
      "5\n",
      "6\n",
      "6\n",
      "5\n"
     ]
    }
   ],
   "source": [
    "# Without using thord variable\n",
    "a =5\n",
    "b =6\n",
    "print(a)\n",
    "print(b)\n",
    "\n",
    "a,b = b,a\n",
    "\n",
    "print(a)\n",
    "print(b)"
   ]
  },
  {
   "cell_type": "code",
   "execution_count": 275,
   "id": "61ddbc10-c3d6-40fb-9eca-048a00765f27",
   "metadata": {},
   "outputs": [
    {
     "name": "stdout",
     "output_type": "stream",
     "text": [
      "3\n",
      "5\n",
      "5\n",
      "3\n"
     ]
    }
   ],
   "source": [
    "# Using third Variable\n",
    "x=3\n",
    "y=5\n",
    "print(x)\n",
    "print(y)\n",
    "temp = x\n",
    "x = y\n",
    "y = temp\n",
    "print(x)\n",
    "print(y)"
   ]
  },
  {
   "cell_type": "code",
   "execution_count": null,
   "id": "fc93caec-1969-4598-b102-21717f241406",
   "metadata": {},
   "outputs": [],
   "source": []
  },
  {
   "cell_type": "code",
   "execution_count": null,
   "id": "f66ae13a-5638-4c5c-910f-8d02f830f2bf",
   "metadata": {},
   "outputs": [],
   "source": []
  },
  {
   "cell_type": "code",
   "execution_count": null,
   "id": "f17a2e15-52e5-4d5c-a5c2-03cbf72a8011",
   "metadata": {},
   "outputs": [],
   "source": []
  },
  {
   "cell_type": "code",
   "execution_count": null,
   "id": "243385e5-1d2e-4718-be51-31f9388c67db",
   "metadata": {},
   "outputs": [],
   "source": []
  },
  {
   "cell_type": "code",
   "execution_count": null,
   "id": "eb5a056d-c52a-4487-8859-a41e527621ff",
   "metadata": {},
   "outputs": [],
   "source": []
  },
  {
   "cell_type": "code",
   "execution_count": null,
   "id": "a9e28847-024b-46db-99a7-0d3a7dfe3b7f",
   "metadata": {},
   "outputs": [],
   "source": []
  }
 ],
 "metadata": {
  "kernelspec": {
   "display_name": "Python 3 (ipykernel)",
   "language": "python",
   "name": "python3"
  },
  "language_info": {
   "codemirror_mode": {
    "name": "ipython",
    "version": 3
   },
   "file_extension": ".py",
   "mimetype": "text/x-python",
   "name": "python",
   "nbconvert_exporter": "python",
   "pygments_lexer": "ipython3",
   "version": "3.12.4"
  }
 },
 "nbformat": 4,
 "nbformat_minor": 5
}
