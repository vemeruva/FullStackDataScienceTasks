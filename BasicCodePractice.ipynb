{
 "cells": [
  {
   "cell_type": "markdown",
   "id": "27531f8a-9c0c-41d4-8594-38891ddd7bc3",
   "metadata": {},
   "source": [
    "# Introduction\n",
    "# Day 1 - 30DaysOfPython Challenge"
   ]
  },
  {
   "cell_type": "code",
   "execution_count": 2,
   "id": "eb841fae-d259-421e-8da6-1baaf7cda4ee",
   "metadata": {},
   "outputs": [
    {
     "name": "stdout",
     "output_type": "stream",
     "text": [
      "5\n",
      "1\n",
      "6\n",
      "1.5\n",
      "9\n",
      "1\n",
      "1\n"
     ]
    }
   ],
   "source": [
    "print(3 + 2) \n",
    "print(3 - 2) \n",
    "print(3 * 2) \n",
    "print(3 / 2) \n",
    "print(3 ** 2)\n",
    "print(3 % 2) \n",
    "print(3 // 2)"
   ]
  },
  {
   "cell_type": "markdown",
   "id": "af659a93-aed5-4a28-94d3-b161d372f786",
   "metadata": {},
   "source": [
    "# Checking data types"
   ]
  },
  {
   "cell_type": "code",
   "execution_count": 5,
   "id": "4cdabc31-64fc-4111-93b2-5f48a169ae94",
   "metadata": {},
   "outputs": [
    {
     "name": "stdout",
     "output_type": "stream",
     "text": [
      "<class 'int'>\n",
      "<class 'float'>\n",
      "<class 'complex'>\n",
      "<class 'str'>\n",
      "<class 'list'>\n",
      "<class 'dict'>\n",
      "<class 'set'>\n",
      "<class 'tuple'>\n",
      "<class 'bool'>\n",
      "<class 'bool'>\n"
     ]
    }
   ],
   "source": [
    "print(type(10))\n",
    "print(type(3.14))\n",
    "print(type(1 + 3j))\n",
    "print(type('Venkatesh'))\n",
    "print(type([1, 2, 3])) \n",
    "print(type({'name':'Venkatesh'}))\n",
    "print(type({9.8, 3.14, 2.7}))   \n",
    "print(type((9.8, 3.14, 2.7)))   \n",
    "print(type(3 == 3))             \n",
    "print(type(3 >= 3)) "
   ]
  },
  {
   "cell_type": "code",
   "execution_count": null,
   "id": "da27f715-76fe-4557-9c56-9d5a2d705faa",
   "metadata": {},
   "outputs": [],
   "source": []
  },
  {
   "cell_type": "code",
   "execution_count": null,
   "id": "8c322d00-4caa-41e7-af75-8688f0126a93",
   "metadata": {},
   "outputs": [],
   "source": []
  }
 ],
 "metadata": {
  "kernelspec": {
   "display_name": "Python 3 (ipykernel)",
   "language": "python",
   "name": "python3"
  },
  "language_info": {
   "codemirror_mode": {
    "name": "ipython",
    "version": 3
   },
   "file_extension": ".py",
   "mimetype": "text/x-python",
   "name": "python",
   "nbconvert_exporter": "python",
   "pygments_lexer": "ipython3",
   "version": "3.12.4"
  }
 },
 "nbformat": 4,
 "nbformat_minor": 5
}
