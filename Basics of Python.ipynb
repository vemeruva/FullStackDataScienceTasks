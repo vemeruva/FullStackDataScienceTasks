{
 "cells": [
  {
   "cell_type": "markdown",
   "id": "7c9e0337-e75d-41e4-91cd-a9541065796b",
   "metadata": {},
   "source": [
    "# IF CONDITION"
   ]
  },
  {
   "cell_type": "code",
   "execution_count": 2,
   "id": "0f6f78f0-df1d-4ed0-b72c-149cab99b766",
   "metadata": {},
   "outputs": [
    {
     "name": "stdout",
     "output_type": "stream",
     "text": [
      "number is positive\n"
     ]
    }
   ],
   "source": [
    "num = 5\n",
    "if num > 2:\n",
    "    print(\"number is positive\")"
   ]
  },
  {
   "cell_type": "code",
   "execution_count": 4,
   "id": "10006712-7a8f-431d-811e-a600e8ea6c4f",
   "metadata": {},
   "outputs": [
    {
     "name": "stdout",
     "output_type": "stream",
     "text": [
      "greater\n"
     ]
    }
   ],
   "source": [
    "i = 8\n",
    "if i >= 5:\n",
    "    print(\"greater\")"
   ]
  },
  {
   "cell_type": "code",
   "execution_count": 6,
   "id": "bf954a5c-650a-4c8f-9b58-9b6ecd5a7ab9",
   "metadata": {},
   "outputs": [
    {
     "name": "stdout",
     "output_type": "stream",
     "text": [
      "you are eligible to vote\n"
     ]
    }
   ],
   "source": [
    "Age = 18\n",
    "if Age >= 18:\n",
    "    print(\"you are eligible to vote\")"
   ]
  },
  {
   "cell_type": "markdown",
   "id": "8a6494cd-3c63-402e-9c60-e5fad2a34bfe",
   "metadata": {},
   "source": [
    "# ELSE IF CONDITION"
   ]
  },
  {
   "cell_type": "code",
   "execution_count": 9,
   "id": "ee6df456-2a7c-4588-bec2-38f7aad73d3f",
   "metadata": {},
   "outputs": [
    {
     "name": "stdout",
     "output_type": "stream",
     "text": [
      "fail\n"
     ]
    }
   ],
   "source": [
    "num = 35\n",
    "if num >36:\n",
    "    print(\"pass\")\n",
    "else:\n",
    "    print(\"fail\")"
   ]
  },
  {
   "cell_type": "code",
   "execution_count": 11,
   "id": "4d602a71-559a-429a-9f1a-da1a06b3dddd",
   "metadata": {},
   "outputs": [
    {
     "name": "stdout",
     "output_type": "stream",
     "text": [
      "even number\n"
     ]
    }
   ],
   "source": [
    "num = 8\n",
    "if num % 2 == 0:\n",
    "    print(\"even number\")\n",
    "else:\n",
    "    print(\"odd number\")"
   ]
  },
  {
   "cell_type": "code",
   "execution_count": 13,
   "id": "19a6b11c-c2c5-42b3-8705-65d332489f49",
   "metadata": {},
   "outputs": [
    {
     "name": "stdout",
     "output_type": "stream",
     "text": [
      "odd number\n"
     ]
    }
   ],
   "source": [
    "num = 7\n",
    "if num % 2 == 0:\n",
    "    print(\"even number\")\n",
    "else:\n",
    "    print(\"odd number\")"
   ]
  },
  {
   "cell_type": "markdown",
   "id": "c7f69605-f9f9-4918-91cd-eb0da863e52f",
   "metadata": {},
   "source": [
    "# ELIF CONDITION"
   ]
  },
  {
   "cell_type": "code",
   "execution_count": 16,
   "id": "5b8ad8ae-3aae-44c3-8223-ef9ae8051ef6",
   "metadata": {},
   "outputs": [
    {
     "name": "stdout",
     "output_type": "stream",
     "text": [
      "Grade B\n"
     ]
    }
   ],
   "source": [
    "marks = 85\n",
    "if marks >= 90:\n",
    "    print(\"Grade A\")\n",
    "elif marks >= 80:\n",
    "    print(\"Grade B\")\n",
    "elif marks >= 70:\n",
    "    print(\"Grade C\")\n",
    "else:\n",
    "    print(\"Grade F\")"
   ]
  },
  {
   "cell_type": "code",
   "execution_count": 18,
   "id": "aef98080-41a7-4a68-87eb-c3355174e051",
   "metadata": {},
   "outputs": [
    {
     "name": "stdout",
     "output_type": "stream",
     "text": [
      "Nice weather\n"
     ]
    }
   ],
   "source": [
    "temperature = 15\n",
    "if temperature >20:\n",
    "    print(\"It's too cold!\")\n",
    "elif temperature >=16:\n",
    "    print(\"The weather is nice\")\n",
    "elif temperature >= 14:\n",
    "    print(\"Nice weather\")\n",
    "else:\n",
    "    print(\"It's hot outside\")"
   ]
  },
  {
   "cell_type": "markdown",
   "id": "fced608a-0b86-4f5a-9308-b377af05c815",
   "metadata": {},
   "source": [
    "# NESTED IF CONDITION"
   ]
  },
  {
   "cell_type": "code",
   "execution_count": 21,
   "id": "12ad7d47-f371-4db8-889b-e8f3a82a94da",
   "metadata": {},
   "outputs": [
    {
     "name": "stdin",
     "output_type": "stream",
     "text": [
      "Enter your age:  21\n",
      "Do you have a voter ID? (yes/no):  no\n"
     ]
    },
    {
     "name": "stdout",
     "output_type": "stream",
     "text": [
      "You need a voter ID to vote. \n"
     ]
    }
   ],
   "source": [
    "age = int(input(\"Enter your age: \"))\n",
    "voter_id = input(\"Do you have a voter ID? (yes/no): \").strip().lower()\n",
    "if age >= 18:\n",
    "    if voter_id == \"yes\":\n",
    "        print(\"You are eligible to vote. \")\n",
    "    else:\n",
    "        print(\"You need a voter ID to vote. \")\n",
    "else:\n",
    "    print(\"You are not eligible to vote because you are under 18. \")"
   ]
  },
  {
   "cell_type": "markdown",
   "id": "954a603b-bb90-4f19-8360-8afb77ae07b7",
   "metadata": {},
   "source": [
    "# For loop"
   ]
  },
  {
   "cell_type": "code",
   "execution_count": 26,
   "id": "0502d21d-b038-4e2c-aeab-0c3a1f6e03f9",
   "metadata": {},
   "outputs": [
    {
     "name": "stdout",
     "output_type": "stream",
     "text": [
      "1\n",
      "2\n",
      "3\n",
      "4\n",
      "5\n",
      "6\n",
      "7\n",
      "8\n",
      "9\n"
     ]
    }
   ],
   "source": [
    "for i in range(1,10):\n",
    "    print(i)\n"
   ]
  },
  {
   "cell_type": "code",
   "execution_count": 28,
   "id": "b871f9cf-db83-4371-b7b3-68793783d0cb",
   "metadata": {},
   "outputs": [
    {
     "name": "stdout",
     "output_type": "stream",
     "text": [
      "apple\n",
      "banana\n",
      "cherry\n"
     ]
    }
   ],
   "source": [
    "fruits = ['apple', 'banana', 'cherry']\n",
    "for fruit in fruits:\n",
    "    print(fruit)"
   ]
  },
  {
   "cell_type": "code",
   "execution_count": 30,
   "id": "0ac32145-adf4-47b9-ad6c-0a2653d48616",
   "metadata": {},
   "outputs": [
    {
     "name": "stdout",
     "output_type": "stream",
     "text": [
      "h\n",
      "e\n",
      "l\n",
      "l\n",
      "o\n"
     ]
    }
   ],
   "source": [
    "for char in 'hello':\n",
    "    print(char)"
   ]
  },
  {
   "cell_type": "markdown",
   "id": "fde5dd4c-e68b-4fb3-acc7-b828b8bbd22a",
   "metadata": {},
   "source": [
    "# for loop and else"
   ]
  },
  {
   "cell_type": "code",
   "execution_count": 34,
   "id": "1229b11f-eb58-49b4-bead-c4a3a34851a7",
   "metadata": {},
   "outputs": [
    {
     "name": "stdout",
     "output_type": "stream",
     "text": [
      "6 not found.\n"
     ]
    }
   ],
   "source": [
    "numbers = [1, 2, 3, 4, 5]\n",
    "target = 6\n",
    "for num in numbers:\n",
    "    if num == target:\n",
    "        print(f\"Found {target}!\")\n",
    "        break\n",
    "else:\n",
    "    print(f\"{target} not found.\")"
   ]
  },
  {
   "cell_type": "code",
   "execution_count": 46,
   "id": "4d83d1f4-ed2d-47bd-ab5a-87e7a3bcf9f4",
   "metadata": {},
   "outputs": [
    {
     "name": "stdout",
     "output_type": "stream",
     "text": [
      "True\n",
      "False\n"
     ]
    }
   ],
   "source": [
    "def is_prime(n):\n",
    "    for i in range(2, n):\n",
    "        if n % i == 0:\n",
    "            return False\n",
    "    else:\n",
    "        return True\n",
    "\n",
    "print(is_prime(17))  \n",
    "print(is_prime(21)) "
   ]
  },
  {
   "cell_type": "markdown",
   "id": "1512d26b-855e-41ca-af6b-b34c3106a437",
   "metadata": {},
   "source": [
    "#  Breaking out of a for loop"
   ]
  },
  {
   "cell_type": "code",
   "execution_count": 51,
   "id": "3d4f6b1c-5096-4879-88e9-453eda79dc75",
   "metadata": {},
   "outputs": [
    {
     "name": "stdout",
     "output_type": "stream",
     "text": [
      "1\n",
      "2\n",
      "3\n",
      "4\n"
     ]
    }
   ],
   "source": [
    "for i in range(1,10):\n",
    "    if i == 5:\n",
    "        break\n",
    "    print(i)"
   ]
  },
  {
   "cell_type": "markdown",
   "id": "90c48b2c-15c9-42e3-9f01-3a9cfa922cf6",
   "metadata": {},
   "source": [
    "# Breaking out of a while loop"
   ]
  },
  {
   "cell_type": "code",
   "execution_count": 56,
   "id": "cdd98032-b2bf-498a-9779-eb6f93e5b732",
   "metadata": {},
   "outputs": [
    {
     "name": "stdout",
     "output_type": "stream",
     "text": [
      "1\n",
      "2\n",
      "3\n",
      "4\n"
     ]
    }
   ],
   "source": [
    "i = 1\n",
    "while i < 10:\n",
    "    if i == 5:\n",
    "        break\n",
    "    print(i)\n",
    "    i += 1"
   ]
  },
  {
   "cell_type": "markdown",
   "id": "717c743b-74fd-4b82-b319-b6825451d740",
   "metadata": {},
   "source": [
    "# Continue Statement"
   ]
  },
  {
   "cell_type": "code",
   "execution_count": 61,
   "id": "bd127f41-5100-4215-8685-f6d8f451c14c",
   "metadata": {},
   "outputs": [
    {
     "name": "stdout",
     "output_type": "stream",
     "text": [
      "Odd numbers\n",
      "1\n",
      "3\n",
      "5\n",
      "7\n",
      "9\n"
     ]
    }
   ],
   "source": [
    "print(\"Odd numbers\")\n",
    "for i in range(1,10):\n",
    "    if i % 2 == 0:\n",
    "        continue\n",
    "    print(i)"
   ]
  },
  {
   "cell_type": "code",
   "execution_count": 63,
   "id": "66bd4708-7cf8-4bea-af2d-2cde76c8e232",
   "metadata": {},
   "outputs": [
    {
     "name": "stdout",
     "output_type": "stream",
     "text": [
      "3\n",
      "5\n",
      "7\n",
      "9\n"
     ]
    }
   ],
   "source": [
    "i = 1\n",
    "while i < 10:\n",
    "    i += 1\n",
    "    if i % 2 == 0:\n",
    "        continue\n",
    "    print(i)"
   ]
  },
  {
   "cell_type": "markdown",
   "id": "b38829f2-6443-4439-8783-b4c625b09384",
   "metadata": {},
   "source": [
    "# Pass Statement"
   ]
  },
  {
   "cell_type": "code",
   "execution_count": 80,
   "id": "4db55dc4-f9e5-41e1-902a-10a9c81c6a3d",
   "metadata": {},
   "outputs": [
    {
     "name": "stdout",
     "output_type": "stream",
     "text": [
      "10 / 1 = 10.0\n",
      "10 / 2 = 5.0\n",
      "10 / 3 = 3.3333333333333335\n",
      "10 / 4 = 2.5\n",
      "10 / 5 = 2.0\n"
     ]
    }
   ],
   "source": [
    "numbers = [1, 2, 3, 0, 4, 5]\n",
    "for num in numbers:\n",
    "    try:\n",
    "        result = 10 / num\n",
    "        print(f\"10 / {num} = {result}\")\n",
    "    except ZeroDivisionError:\n",
    "        pass  # Skip division by zero"
   ]
  },
  {
   "cell_type": "code",
   "execution_count": 82,
   "id": "a21173d2-d561-4050-b834-5ff717a6bbb3",
   "metadata": {},
   "outputs": [],
   "source": [
    "def empty_function():\n",
    "    pass"
   ]
  },
  {
   "cell_type": "code",
   "execution_count": 7,
   "id": "6838cf50-6480-42b3-b0e9-1824cb1a6f71",
   "metadata": {},
   "outputs": [
    {
     "name": "stdout",
     "output_type": "stream",
     "text": [
      "10\n",
      "20\n",
      "30\n",
      "Not Found\n"
     ]
    }
   ],
   "source": [
    "nums = [10,14,18,21,20,27,30] \n",
    "\n",
    "for num in nums:\n",
    "    if num % 5 == 0:\n",
    "        print(num)  \n",
    "        #break\n",
    "else:\n",
    "        print('Not Found')"
   ]
  },
  {
   "cell_type": "code",
   "execution_count": 11,
   "id": "07884e88-41bb-425b-a3f2-e36a934018cc",
   "metadata": {},
   "outputs": [
    {
     "name": "stdin",
     "output_type": "stream",
     "text": [
      "Enter the length of the array 2\n",
      "Enter the next value 3\n",
      "Enter the next value 1\n",
      "Enter the next value 4\n",
      "Enter the next value 5\n",
      "Enter the next value 6\n"
     ]
    },
    {
     "name": "stdout",
     "output_type": "stream",
     "text": [
      "array('i', [3, 1, 4, 5, 6])\n"
     ]
    }
   ],
   "source": [
    "from array import * \n",
    "arr = array('i',[])\n",
    "n = int(input('Enter the length of the array'))\n",
    "\n",
    "for i in range(5):\n",
    "    x = int(input('Enter the next value'))\n",
    "    arr.append(x)\n",
    "print(arr)"
   ]
  },
  {
   "cell_type": "markdown",
   "id": "7b962461-d418-4936-bbe2-abee9dd04562",
   "metadata": {},
   "source": [
    "# PRINTING PATTERN IN PYTHON"
   ]
  },
  {
   "cell_type": "code",
   "execution_count": 14,
   "id": "c72937fb-cc82-4395-91ef-1e7f72423620",
   "metadata": {},
   "outputs": [
    {
     "name": "stdout",
     "output_type": "stream",
     "text": [
      "# # # # \n",
      "# # # # \n",
      "# # # # \n",
      "# # # # \n"
     ]
    }
   ],
   "source": [
    "for i in range(1,5):\n",
    "       print('# # # # ')"
   ]
  },
  {
   "cell_type": "code",
   "execution_count": 16,
   "id": "cc563a19-65f9-495e-a769-6e39bb0429d8",
   "metadata": {},
   "outputs": [
    {
     "name": "stdout",
     "output_type": "stream",
     "text": [
      "# # # # "
     ]
    }
   ],
   "source": [
    "for j in range(4):\n",
    "    print('#', end = \" \")"
   ]
  },
  {
   "cell_type": "code",
   "execution_count": 18,
   "id": "368279c0-3863-42e9-811d-b5b67880c809",
   "metadata": {},
   "outputs": [
    {
     "name": "stdout",
     "output_type": "stream",
     "text": [
      "# # # # # # # # "
     ]
    }
   ],
   "source": [
    "for j in range(4):\n",
    "    print('#', end=\" \")\n",
    "\n",
    "for j in range(4):\n",
    "    print('#', end=\" \")"
   ]
  },
  {
   "cell_type": "code",
   "execution_count": 20,
   "id": "278a7cb5-4a82-4d24-b1ac-1a0ce9d0d6e1",
   "metadata": {},
   "outputs": [
    {
     "name": "stdout",
     "output_type": "stream",
     "text": [
      "# # # # \n",
      "# # # # "
     ]
    }
   ],
   "source": [
    "for j in range(4):\n",
    "    print('#', end=\" \")\n",
    "    \n",
    "print()\n",
    "    \n",
    "for j in range(4):\n",
    "    print('#', end=\" \")"
   ]
  },
  {
   "cell_type": "code",
   "execution_count": 22,
   "id": "0468b64d-943a-4956-beaa-790823e8a0c6",
   "metadata": {},
   "outputs": [
    {
     "name": "stdout",
     "output_type": "stream",
     "text": [
      "#  #  #  #  \n",
      "#  #  #  #  \n",
      "#  #  #  #  \n",
      "#  #  #  #  "
     ]
    }
   ],
   "source": [
    "for j in range(4):\n",
    "    print('#', end=\"  \")\n",
    "    \n",
    "print()\n",
    "\n",
    "for j in range(4):\n",
    "    print('#', end=\"  \")\n",
    "\n",
    "print()\n",
    "\n",
    "for j in range(4):\n",
    "    print('#', end=\"  \")\n",
    "    \n",
    "print()\n",
    "\n",
    "for j in range(4):\n",
    "    print('#', end=\"  \")"
   ]
  },
  {
   "cell_type": "code",
   "execution_count": 28,
   "id": "6513cd23-5622-47f8-9ea9-5514870ce26b",
   "metadata": {},
   "outputs": [
    {
     "name": "stdout",
     "output_type": "stream",
     "text": [
      "*  \n",
      "*  *  \n",
      "*  *  *  \n",
      "*  *  *  *  \n"
     ]
    }
   ],
   "source": [
    "for i in range(4):\n",
    "    for j in range(i+1):\n",
    "        print('*', end=\"  \")\n",
    "    print()"
   ]
  },
  {
   "cell_type": "code",
   "execution_count": 34,
   "id": "12a874e2-590b-431a-a2c3-54b471bc27fc",
   "metadata": {},
   "outputs": [
    {
     "name": "stdout",
     "output_type": "stream",
     "text": [
      "@ \n",
      "@ @ \n",
      "@ @ @ \n",
      "@ @ @ @ \n"
     ]
    }
   ],
   "source": [
    "for i in range(1,5):\n",
    "    print(\"@ \"*i)"
   ]
  },
  {
   "cell_type": "code",
   "execution_count": 36,
   "id": "d53ef038-1f6b-41fd-b958-db49f170cfe7",
   "metadata": {},
   "outputs": [
    {
     "name": "stdout",
     "output_type": "stream",
     "text": [
      "# \n",
      "# # \n",
      "# # # \n",
      "# # # # \n"
     ]
    }
   ],
   "source": [
    "for i in range(1,5):\n",
    "    for j in range(4):\n",
    "        if i>j:\n",
    "            print(\"#\",end=\" \")\n",
    "    print()"
   ]
  },
  {
   "cell_type": "code",
   "execution_count": 40,
   "id": "7853b3c3-9ae4-4c55-b611-41e053ad8516",
   "metadata": {},
   "outputs": [
    {
     "name": "stdout",
     "output_type": "stream",
     "text": [
      "$  $  $  $  \n",
      "$  $  $  \n",
      "$  $  \n",
      "$  \n"
     ]
    }
   ],
   "source": [
    "for i in range(4):\n",
    "    for j in range(4-i):\n",
    "        print('$', end=\"  \")\n",
    "    print()"
   ]
  },
  {
   "cell_type": "code",
   "execution_count": 80,
   "id": "e6c6f251-7349-4d23-9594-56a401311f83",
   "metadata": {},
   "outputs": [
    {
     "name": "stdout",
     "output_type": "stream",
     "text": [
      "    * \n",
      "   * * \n",
      "  * * * \n",
      " * * * * \n"
     ]
    }
   ],
   "source": [
    "for i in range(4):\n",
    "    print(' ' * (3 - i), end=' ')\n",
    "    for j in range(1 * i + 1):\n",
    "        print('*', end=' ')  # Added a space after the asterisk\n",
    "    print()"
   ]
  },
  {
   "cell_type": "code",
   "execution_count": 84,
   "id": "378c7b82-13a3-4276-b958-ed53c4a567be",
   "metadata": {},
   "outputs": [
    {
     "name": "stdout",
     "output_type": "stream",
     "text": [
      "* * * \n",
      " * * \n",
      "  * \n",
      "   \n"
     ]
    }
   ],
   "source": [
    "def inverted_pyramid(rows):\n",
    "    for i in range(rows, 0, -1):\n",
    "        print(' ' * (rows - i), end='')\n",
    "        for j in range(1 * i - 1):\n",
    "            print('*', end=' ')\n",
    "        print()\n",
    "\n",
    "inverted_pyramid(4)"
   ]
  },
  {
   "cell_type": "code",
   "execution_count": null,
   "id": "352a1c72-066f-43e1-88d3-abe1246d618d",
   "metadata": {},
   "outputs": [],
   "source": []
  },
  {
   "cell_type": "code",
   "execution_count": null,
   "id": "fa5bba9e-e6db-4447-ac60-eb082ddd505d",
   "metadata": {},
   "outputs": [],
   "source": []
  },
  {
   "cell_type": "code",
   "execution_count": null,
   "id": "78fa1d59-1f7d-4ce0-84ee-232fb1607fe4",
   "metadata": {},
   "outputs": [],
   "source": []
  },
  {
   "cell_type": "code",
   "execution_count": null,
   "id": "0f7a8de5-637d-4c37-ac18-4b56c0b308e3",
   "metadata": {},
   "outputs": [],
   "source": []
  },
  {
   "cell_type": "code",
   "execution_count": null,
   "id": "3160bdec-043e-433e-9630-b700f1d714e5",
   "metadata": {},
   "outputs": [],
   "source": []
  },
  {
   "cell_type": "code",
   "execution_count": null,
   "id": "4c42eba2-32eb-4b77-beba-5ba7ec048ca6",
   "metadata": {},
   "outputs": [],
   "source": []
  },
  {
   "cell_type": "code",
   "execution_count": null,
   "id": "1e35acaa-5d3b-4534-bb53-186a56f21e27",
   "metadata": {},
   "outputs": [],
   "source": []
  },
  {
   "cell_type": "code",
   "execution_count": null,
   "id": "53a4e2e0-3c73-415c-a080-bed92ba577c9",
   "metadata": {},
   "outputs": [],
   "source": []
  }
 ],
 "metadata": {
  "kernelspec": {
   "display_name": "Python 3 (ipykernel)",
   "language": "python",
   "name": "python3"
  },
  "language_info": {
   "codemirror_mode": {
    "name": "ipython",
    "version": 3
   },
   "file_extension": ".py",
   "mimetype": "text/x-python",
   "name": "python",
   "nbconvert_exporter": "python",
   "pygments_lexer": "ipython3",
   "version": "3.12.4"
  }
 },
 "nbformat": 4,
 "nbformat_minor": 5
}
