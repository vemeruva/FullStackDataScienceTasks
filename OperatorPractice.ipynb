{
 "cells": [
  {
   "cell_type": "markdown",
   "id": "f6090363-4c36-4df0-bcb9-33f9cf7ae906",
   "metadata": {},
   "source": [
    "# Arithmetic Operations in Python\n",
    "# Integers"
   ]
  },
  {
   "cell_type": "code",
   "execution_count": 2,
   "id": "c1a20a95-d094-47ef-a9f9-dcdd51764939",
   "metadata": {},
   "outputs": [
    {
     "name": "stdout",
     "output_type": "stream",
     "text": [
      "Addition:  4\n",
      "Subtraction:  2\n",
      "Multiplication:  12\n",
      "Division:  2.0\n",
      "Division:  3.0\n",
      "Division:  3.5\n"
     ]
    }
   ],
   "source": [
    "print('Addition: ', 1 + 3)\n",
    "print('Subtraction: ', 3 - 1)\n",
    "print('Multiplication: ', 4 * 3)\n",
    "print ('Division: ', 4 / 2)  \n",
    "print('Division: ', 6 / 2)\n",
    "print('Division: ', 7 / 2)"
   ]
  },
  {
   "cell_type": "code",
   "execution_count": 4,
   "id": "fbd83f92-c375-4c48-a7ab-f782ebd1c258",
   "metadata": {},
   "outputs": [
    {
     "name": "stdout",
     "output_type": "stream",
     "text": [
      "Division without the remainder:  3\n"
     ]
    }
   ],
   "source": [
    "print('Division without the remainder: ', 7 // 2)"
   ]
  },
  {
   "cell_type": "code",
   "execution_count": 8,
   "id": "efb9855b-66d0-45ea-ad6d-ba2e662ec207",
   "metadata": {},
   "outputs": [
    {
     "name": "stdout",
     "output_type": "stream",
     "text": [
      "Division with decima the remainder:  3.5\n"
     ]
    }
   ],
   "source": [
    "print('Division with decima the remainder: ', 7 / 2)"
   ]
  },
  {
   "cell_type": "code",
   "execution_count": 10,
   "id": "fa670401-e6b0-4fc2-8baa-331918c1b352",
   "metadata": {},
   "outputs": [
    {
     "name": "stdout",
     "output_type": "stream",
     "text": [
      "Modulus:  1\n"
     ]
    }
   ],
   "source": [
    "print('Modulus: ', 3 % 2) "
   ]
  },
  {
   "cell_type": "code",
   "execution_count": 12,
   "id": "717c4909-121b-4d14-9170-74cfcda91475",
   "metadata": {},
   "outputs": [
    {
     "name": "stdout",
     "output_type": "stream",
     "text": [
      "Exponential:  9\n"
     ]
    }
   ],
   "source": [
    "print('Exponential: ', 3 ** 2)"
   ]
  },
  {
   "cell_type": "markdown",
   "id": "f58bf771-561a-48e4-9831-732feab93519",
   "metadata": {},
   "source": [
    "# Floating numbers"
   ]
  },
  {
   "cell_type": "code",
   "execution_count": 15,
   "id": "20b29193-e7cb-448a-a870-1ab1ab2999cc",
   "metadata": {},
   "outputs": [
    {
     "name": "stdout",
     "output_type": "stream",
     "text": [
      "Floating Number,PI 3.14\n",
      "Floating Number, gravity 9.81\n"
     ]
    }
   ],
   "source": [
    "print('Floating Number,PI', 3.14)\n",
    "print('Floating Number, gravity', 9.81)"
   ]
  },
  {
   "cell_type": "markdown",
   "id": "6aabc96f-9fe3-4904-8413-c43a59306cb1",
   "metadata": {},
   "source": [
    "# Complex numbers"
   ]
  },
  {
   "cell_type": "code",
   "execution_count": 18,
   "id": "dbb952a0-1a32-46a6-840d-2f45a58ac326",
   "metadata": {},
   "outputs": [
    {
     "name": "stdout",
     "output_type": "stream",
     "text": [
      "Complex number:  (1+1j)\n"
     ]
    }
   ],
   "source": [
    "print('Complex number: ', 1 + 1j)"
   ]
  },
  {
   "cell_type": "code",
   "execution_count": 20,
   "id": "ed969c9b-71e6-4d5a-b5ee-86b255a9d25b",
   "metadata": {},
   "outputs": [
    {
     "name": "stdout",
     "output_type": "stream",
     "text": [
      "Multiplying complex number:  (2+0j)\n"
     ]
    }
   ],
   "source": [
    "print('Multiplying complex number: ',(1 + 1j) * (1-1j))"
   ]
  },
  {
   "cell_type": "markdown",
   "id": "65f8636f-7567-4863-b501-db02a4cbec74",
   "metadata": {},
   "source": [
    "# Declaring the variable at the top first"
   ]
  },
  {
   "cell_type": "code",
   "execution_count": 23,
   "id": "7ea09725-fcc6-4e0e-935f-b9584b351e09",
   "metadata": {},
   "outputs": [],
   "source": [
    "a = 3 \n",
    "b = 2 "
   ]
  },
  {
   "cell_type": "markdown",
   "id": "d2394f8d-7952-44ca-bcf4-ea5bdae075c5",
   "metadata": {},
   "source": [
    "# Arithmetic operations and assigning the result to a variable"
   ]
  },
  {
   "cell_type": "code",
   "execution_count": 26,
   "id": "2b49705d-cd4b-423e-a954-96d3cfd625b0",
   "metadata": {},
   "outputs": [],
   "source": [
    "total = a + b\n",
    "diff = a - b\n",
    "product = a * b\n",
    "division = a / b\n",
    "remainder = a % b\n",
    "floor_division = a // b\n",
    "exponential = a ** b"
   ]
  },
  {
   "cell_type": "markdown",
   "id": "a1e434d7-abae-49d9-9a34-fb04c8bf6843",
   "metadata": {},
   "source": [
    "# I should have used sum instead of total but sum is a built-in function try to avoid overriding builtin functions"
   ]
  },
  {
   "cell_type": "code",
   "execution_count": 28,
   "id": "ea71a9ad-09f4-44d8-a427-d87797aa8105",
   "metadata": {},
   "outputs": [
    {
     "name": "stdout",
     "output_type": "stream",
     "text": [
      "5\n",
      "a + b =  5\n",
      "a - b =  1\n",
      "a * b =  6\n",
      "a / b =  1.5\n",
      "a % b =  1\n",
      "a // b =  1\n",
      "a ** b =  9\n"
     ]
    }
   ],
   "source": [
    "print(total) \n",
    "print('a + b = ', total)\n",
    "print('a - b = ', diff)\n",
    "print('a * b = ', product)\n",
    "print('a / b = ', division)\n",
    "print('a % b = ', remainder)\n",
    "print('a // b = ', floor_division)\n",
    "print('a ** b = ', exponential)"
   ]
  },
  {
   "cell_type": "markdown",
   "id": "434bde4c-829f-4433-a4ff-d90ca17566ac",
   "metadata": {},
   "source": [
    "# Declaring values and organizing them together"
   ]
  },
  {
   "cell_type": "code",
   "execution_count": 31,
   "id": "bcc6e149-65a7-4704-ad16-4c5dd847fdfe",
   "metadata": {},
   "outputs": [],
   "source": [
    "num_one = 3\n",
    "num_two = 4"
   ]
  },
  {
   "cell_type": "markdown",
   "id": "f509e5c3-26d2-4822-b30e-aa9a92dc7903",
   "metadata": {},
   "source": [
    "# Arithmetic operations"
   ]
  },
  {
   "cell_type": "code",
   "execution_count": 34,
   "id": "160ae714-e29d-499b-81af-fd6c44367195",
   "metadata": {},
   "outputs": [],
   "source": [
    "total = num_one + num_two\n",
    "diff = num_two - num_one\n",
    "product = num_one * num_two\n",
    "div = num_two / num_two\n",
    "remainder = num_two % num_one"
   ]
  },
  {
   "cell_type": "markdown",
   "id": "effc8d5e-361a-43be-b182-213bf1f70c55",
   "metadata": {},
   "source": [
    "# Printing values with labelprint('total: ', total)"
   ]
  },
  {
   "cell_type": "code",
   "execution_count": 40,
   "id": "15ab2a3c-ac49-4a05-91db-8cbb1f60c962",
   "metadata": {},
   "outputs": [
    {
     "name": "stdout",
     "output_type": "stream",
     "text": [
      "total:  7\n",
      "difference:  1\n",
      "product:  12\n",
      "division:  1.0\n",
      "remainder:  1\n"
     ]
    }
   ],
   "source": [
    "print('total: ', total)\n",
    "print('difference: ', diff)\n",
    "print('product: ', product)\n",
    "print('division: ', div)\n",
    "print('remainder: ', remainder)"
   ]
  },
  {
   "cell_type": "markdown",
   "id": "234d3147-486e-4e92-a9ab-466e0684d146",
   "metadata": {},
   "source": [
    "# Calculating area of a circle"
   ]
  },
  {
   "cell_type": "code",
   "execution_count": 43,
   "id": "9afb9b4c-6d43-489b-bcae-25d4009f26e4",
   "metadata": {},
   "outputs": [],
   "source": [
    "radius = 10"
   ]
  },
  {
   "cell_type": "code",
   "execution_count": 45,
   "id": "8f6f0cb4-f3fb-4856-a3fb-9100b12fe35a",
   "metadata": {},
   "outputs": [],
   "source": [
    "area_of_circle = 3.14 * radius ** 2"
   ]
  },
  {
   "cell_type": "code",
   "execution_count": 47,
   "id": "a023b08b-f452-4c8d-838c-af429c127347",
   "metadata": {},
   "outputs": [
    {
     "name": "stdout",
     "output_type": "stream",
     "text": [
      "Area of a circle: 314.0\n"
     ]
    }
   ],
   "source": [
    "print('Area of a circle:', area_of_circle)"
   ]
  },
  {
   "cell_type": "markdown",
   "id": "710970a3-3516-493d-8d37-0a0a5f1e1d84",
   "metadata": {},
   "source": [
    "# Calculating area of a rectangle"
   ]
  },
  {
   "cell_type": "code",
   "execution_count": 50,
   "id": "025006bf-ffec-41bb-ae15-b79041b596c6",
   "metadata": {},
   "outputs": [
    {
     "name": "stdout",
     "output_type": "stream",
     "text": [
      "Area of rectangle: 200\n"
     ]
    }
   ],
   "source": [
    "length = 10\n",
    "width = 20\n",
    "area_of_rectangle = length * width\n",
    "print('Area of rectangle:', area_of_rectangle)"
   ]
  },
  {
   "cell_type": "code",
   "execution_count": 52,
   "id": "9e235310-fa69-4408-b9d6-f001ff47669b",
   "metadata": {},
   "outputs": [
    {
     "name": "stdout",
     "output_type": "stream",
     "text": [
      "Area of rectangle: 100000000000000000000\n"
     ]
    }
   ],
   "source": [
    "length = 10\n",
    "width = 20\n",
    "area_of_rectangle = length ** width\n",
    "print('Area of rectangle:', area_of_rectangle)"
   ]
  },
  {
   "cell_type": "markdown",
   "id": "98c42adb-3758-46e7-a229-6912f712e4b6",
   "metadata": {},
   "source": [
    "# Calculating a weight of an object"
   ]
  },
  {
   "cell_type": "code",
   "execution_count": 55,
   "id": "87178fb2-ac06-4e6c-8a7f-d82d423c4cbf",
   "metadata": {},
   "outputs": [
    {
     "name": "stdout",
     "output_type": "stream",
     "text": [
      "735.75 N\n"
     ]
    }
   ],
   "source": [
    "mass = 75\n",
    "gravity = 9.81\n",
    "weight = mass * gravity\n",
    "print(weight, 'N')"
   ]
  },
  {
   "cell_type": "code",
   "execution_count": 59,
   "id": "036766ca-93c2-4bcc-9a50-e000cb0435f2",
   "metadata": {},
   "outputs": [
    {
     "name": "stdout",
     "output_type": "stream",
     "text": [
      "True\n",
      "True\n",
      "False\n",
      "True\n",
      "True\n",
      "False\n",
      "True\n"
     ]
    }
   ],
   "source": [
    "print(3 > 2)\n",
    "print(3 >= 2)\n",
    "print(3 < 2) \n",
    "print(2 < 3) \n",
    "print(2 <= 3)\n",
    "print(3 == 2)\n",
    "print(3 != 2)"
   ]
  },
  {
   "cell_type": "code",
   "execution_count": 61,
   "id": "acf723ab-4c9a-4db2-99c2-307442e2e301",
   "metadata": {},
   "outputs": [
    {
     "name": "stdout",
     "output_type": "stream",
     "text": [
      "False\n",
      "True\n",
      "True\n",
      "False\n",
      "True\n",
      "True\n",
      "False\n"
     ]
    }
   ],
   "source": [
    "print(len('mango') == len('avocado'))\n",
    "print(len('mango') != len('avocado'))\n",
    "print(len('mango') < len('avocado')) \n",
    "print(len('milk') != len('meat'))    \n",
    "print(len('milk') == len('meat'))    \n",
    "print(len('tomato') == len('potato'))\n",
    "print(len('python') > len('dragon')) "
   ]
  },
  {
   "cell_type": "markdown",
   "id": "873b4a33-44db-4192-ae00-d91ece371214",
   "metadata": {},
   "source": [
    "# Boolean comparison"
   ]
  },
  {
   "cell_type": "code",
   "execution_count": 64,
   "id": "a4eabd01-d5ea-4b71-bf8c-77aa99d27929",
   "metadata": {},
   "outputs": [
    {
     "name": "stdout",
     "output_type": "stream",
     "text": [
      "True == True:  True\n",
      "True == False:  False\n",
      "False == False: True\n",
      "True and True:  True\n",
      "True or False: True\n"
     ]
    }
   ],
   "source": [
    "print('True == True: ', True == True)\n",
    "print('True == False: ', True == False)\n",
    "print('False == False:', False == False)\n",
    "print('True and True: ', True and True)\n",
    "print('True or False:', True or False)"
   ]
  },
  {
   "cell_type": "markdown",
   "id": "07ebc08e-6641-42b7-944f-5047cda56073",
   "metadata": {},
   "source": [
    "# Another way comparison"
   ]
  },
  {
   "cell_type": "code",
   "execution_count": 69,
   "id": "41232f4a-bb1b-47eb-80ba-fe1d0cf36c6a",
   "metadata": {},
   "outputs": [
    {
     "name": "stdout",
     "output_type": "stream",
     "text": [
      "1 is 1 True\n",
      "1 is not 2 True\n",
      "A in Asabeneh True\n",
      "B in Asabeneh False\n",
      "True\n",
      "a in an: True\n",
      "4 is 2 ** 2: True\n"
     ]
    },
    {
     "name": "stderr",
     "output_type": "stream",
     "text": [
      "<>:1: SyntaxWarning: \"is\" with 'int' literal. Did you mean \"==\"?\n",
      "<>:2: SyntaxWarning: \"is not\" with 'int' literal. Did you mean \"!=\"?\n",
      "<>:7: SyntaxWarning: \"is\" with 'int' literal. Did you mean \"==\"?\n",
      "<>:1: SyntaxWarning: \"is\" with 'int' literal. Did you mean \"==\"?\n",
      "<>:2: SyntaxWarning: \"is not\" with 'int' literal. Did you mean \"!=\"?\n",
      "<>:7: SyntaxWarning: \"is\" with 'int' literal. Did you mean \"==\"?\n",
      "C:\\Users\\vemer\\AppData\\Local\\Temp\\ipykernel_9132\\2876911410.py:1: SyntaxWarning: \"is\" with 'int' literal. Did you mean \"==\"?\n",
      "  print('1 is 1', 1 is 1)\n",
      "C:\\Users\\vemer\\AppData\\Local\\Temp\\ipykernel_9132\\2876911410.py:2: SyntaxWarning: \"is not\" with 'int' literal. Did you mean \"!=\"?\n",
      "  print('1 is not 2', 1 is not 2)\n",
      "C:\\Users\\vemer\\AppData\\Local\\Temp\\ipykernel_9132\\2876911410.py:7: SyntaxWarning: \"is\" with 'int' literal. Did you mean \"==\"?\n",
      "  print('4 is 2 ** 2:', 4 is 2 ** 2)\n"
     ]
    }
   ],
   "source": [
    "print('1 is 1', 1 is 1)           \n",
    "print('1 is not 2', 1 is not 2) \n",
    "print('A in Asabeneh', 'A' in 'Asabeneh') \n",
    "print('B in Asabeneh', 'B' in 'Asabeneh')\n",
    "print('coding' in 'coding for all')\n",
    "print('a in an:', 'a' in 'an')  \n",
    "print('4 is 2 ** 2:', 4 is 2 ** 2)"
   ]
  },
  {
   "cell_type": "code",
   "execution_count": 73,
   "id": "bfdadae1-6e1a-45fc-9d08-0c85a72ee9d9",
   "metadata": {},
   "outputs": [
    {
     "name": "stdout",
     "output_type": "stream",
     "text": [
      "True\n",
      "False\n",
      "False\n",
      "True\n",
      "True\n",
      "False\n"
     ]
    }
   ],
   "source": [
    "print(3 > 2 and 4 > 3) \n",
    "print(3 > 2 and 4 < 3)\n",
    "print(3 < 2 and 4 < 3)\n",
    "print(3 > 2 or 4 > 3) \n",
    "print(3 > 2 or 4 < 3) \n",
    "print(3 < 2 or 4 < 3) "
   ]
  },
  {
   "cell_type": "code",
   "execution_count": 75,
   "id": "c4e527d6-97ac-4dde-be6a-23897d5783f4",
   "metadata": {},
   "outputs": [
    {
     "name": "stdout",
     "output_type": "stream",
     "text": [
      "False\n",
      "False\n",
      "True\n",
      "True\n",
      "False\n"
     ]
    }
   ],
   "source": [
    "print(not 3 > 2)     \n",
    "print(not True)      \n",
    "print(not False)     \n",
    "print(not not True)  \n",
    "print(not not False) "
   ]
  },
  {
   "cell_type": "code",
   "execution_count": null,
   "id": "7ac73834-87e0-451a-bac9-d621f859116c",
   "metadata": {},
   "outputs": [],
   "source": []
  },
  {
   "cell_type": "code",
   "execution_count": null,
   "id": "b7177030-16a1-4696-aa48-bbb554a58341",
   "metadata": {},
   "outputs": [],
   "source": []
  },
  {
   "cell_type": "code",
   "execution_count": null,
   "id": "627cc778-3fe6-4f10-8546-bc04bd049ab9",
   "metadata": {},
   "outputs": [],
   "source": []
  },
  {
   "cell_type": "code",
   "execution_count": null,
   "id": "c9e09b9d-652d-43e5-aa13-77df053e284e",
   "metadata": {},
   "outputs": [],
   "source": []
  }
 ],
 "metadata": {
  "kernelspec": {
   "display_name": "Python 3 (ipykernel)",
   "language": "python",
   "name": "python3"
  },
  "language_info": {
   "codemirror_mode": {
    "name": "ipython",
    "version": 3
   },
   "file_extension": ".py",
   "mimetype": "text/x-python",
   "name": "python",
   "nbconvert_exporter": "python",
   "pygments_lexer": "ipython3",
   "version": "3.12.4"
  }
 },
 "nbformat": 4,
 "nbformat_minor": 5
}
