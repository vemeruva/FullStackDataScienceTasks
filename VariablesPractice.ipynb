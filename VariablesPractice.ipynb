{
 "cells": [
  {
   "cell_type": "markdown",
   "id": "e384e7f6-6257-4799-b6d1-41a07e349cc4",
   "metadata": {},
   "source": [
    "# Variables in Python"
   ]
  },
  {
   "cell_type": "code",
   "execution_count": 2,
   "id": "c4827aa9-312f-4096-980b-c6862b1d9822",
   "metadata": {},
   "outputs": [],
   "source": [
    "first_name = 'VENKATESH'\n",
    "last_name = 'MERUVA'\n",
    "country = 'HYD'\n",
    "city = 'TELENGANA'\n",
    "age = 36\n",
    "is_married = True\n",
    "skills = ['HTML', 'CSS', 'JS', 'React', 'Python']\n",
    "person_info = {\n",
    "    'firstname':'Asabeneh', \n",
    "    'lastname':'Yetayeh', \n",
    "    'country':'Finland',\n",
    "    'city':'Helsinki'\n",
    "    }"
   ]
  },
  {
   "cell_type": "markdown",
   "id": "7a80fb3d-c339-4540-a97f-8a708553a7f3",
   "metadata": {},
   "source": [
    "# Printing the values stored in the variables"
   ]
  },
  {
   "cell_type": "code",
   "execution_count": 5,
   "id": "659b77a4-9bad-4993-aa1d-cfbbb896a35a",
   "metadata": {},
   "outputs": [
    {
     "name": "stdout",
     "output_type": "stream",
     "text": [
      "First name: VENKATESH\n",
      "First name length: 9\n",
      "Last name:  MERUVA\n",
      "Last name length:  6\n",
      "Country:  HYD\n",
      "City:  TELENGANA\n",
      "Age:  36\n",
      "Married:  True\n",
      "Skills:  ['HTML', 'CSS', 'JS', 'React', 'Python']\n",
      "Person information:  {'firstname': 'Asabeneh', 'lastname': 'Yetayeh', 'country': 'Finland', 'city': 'Helsinki'}\n"
     ]
    }
   ],
   "source": [
    "print('First name:', first_name)\n",
    "print('First name length:', len(first_name))\n",
    "print('Last name: ', last_name)\n",
    "print('Last name length: ', len(last_name))\n",
    "print('Country: ', country)\n",
    "print('City: ', city)\n",
    "print('Age: ', age)\n",
    "print('Married: ', is_married)\n",
    "print('Skills: ', skills)\n",
    "print('Person information: ', person_info)"
   ]
  },
  {
   "cell_type": "markdown",
   "id": "83e8e3f8-ae44-4a68-a5a3-ce7f7678d91b",
   "metadata": {},
   "source": [
    "# Declaring multiple variables in one line"
   ]
  },
  {
   "cell_type": "code",
   "execution_count": 10,
   "id": "a291c9a0-4fd7-4ad3-825d-458b383ac987",
   "metadata": {},
   "outputs": [
    {
     "name": "stdout",
     "output_type": "stream",
     "text": [
      "Venkatesh Meruva India 36 True\n",
      "First name: Venkatesh\n",
      "Last name:  Meruva\n",
      "Country:  India\n",
      "Age:  36\n",
      "Married:  True\n"
     ]
    }
   ],
   "source": [
    "first_name, last_name, country, age, is_married = 'Venkatesh', 'Meruva', 'India', 36, True\n",
    "\n",
    "print(first_name, last_name, country, age, is_married)\n",
    "print('First name:', first_name)\n",
    "print('Last name: ', last_name)\n",
    "print('Country: ', country)\n",
    "print('Age: ', age)\n",
    "print('Married: ', is_married)"
   ]
  },
  {
   "cell_type": "code",
   "execution_count": null,
   "id": "310e870f-8f90-46c5-af9b-a9cb27ad944d",
   "metadata": {},
   "outputs": [],
   "source": []
  },
  {
   "cell_type": "code",
   "execution_count": null,
   "id": "0d1a3388-72e3-4c35-ba12-9e778fa35585",
   "metadata": {},
   "outputs": [],
   "source": []
  }
 ],
 "metadata": {
  "kernelspec": {
   "display_name": "Python 3 (ipykernel)",
   "language": "python",
   "name": "python3"
  },
  "language_info": {
   "codemirror_mode": {
    "name": "ipython",
    "version": 3
   },
   "file_extension": ".py",
   "mimetype": "text/x-python",
   "name": "python",
   "nbconvert_exporter": "python",
   "pygments_lexer": "ipython3",
   "version": "3.12.4"
  }
 },
 "nbformat": 4,
 "nbformat_minor": 5
}
