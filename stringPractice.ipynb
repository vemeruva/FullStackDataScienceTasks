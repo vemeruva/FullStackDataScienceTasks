{
 "cells": [
  {
   "cell_type": "markdown",
   "id": "f8a1a2c8-4f19-4df1-b0ff-4be5ca549732",
   "metadata": {
    "panel-layout": {
     "height": 60.616668701171875,
     "visible": true,
     "width": 100
    }
   },
   "source": [
    "# Single line comment"
   ]
  },
  {
   "cell_type": "code",
   "execution_count": 3,
   "id": "97688082-ccf5-4c1e-9a58-55af495805d4",
   "metadata": {},
   "outputs": [],
   "source": [
    "letter ='p'"
   ]
  },
  {
   "cell_type": "code",
   "execution_count": 5,
   "id": "86b427b7-f5d6-462f-b1f0-3cc198b111b5",
   "metadata": {
    "panel-layout": {
     "height": 0,
     "visible": true,
     "width": 100
    }
   },
   "outputs": [
    {
     "name": "stdout",
     "output_type": "stream",
     "text": [
      "p\n"
     ]
    }
   ],
   "source": [
    "print(letter)"
   ]
  },
  {
   "cell_type": "code",
   "execution_count": 7,
   "id": "9fd8982a-a400-48b1-856a-23fbd96d150e",
   "metadata": {
    "panel-layout": {
     "height": 0,
     "visible": true,
     "width": 100
    }
   },
   "outputs": [
    {
     "name": "stdout",
     "output_type": "stream",
     "text": [
      "1\n"
     ]
    }
   ],
   "source": [
    "print(len(letter))"
   ]
  },
  {
   "cell_type": "code",
   "execution_count": 9,
   "id": "1fbeb3f1-eb70-4535-a3d4-14fe6957f321",
   "metadata": {},
   "outputs": [],
   "source": [
    "greeting='Hello, world!'"
   ]
  },
  {
   "cell_type": "code",
   "execution_count": 11,
   "id": "3999c2cb-282f-4888-b57b-9445a9f880df",
   "metadata": {
    "panel-layout": {
     "height": 0,
     "visible": true,
     "width": 100
    }
   },
   "outputs": [
    {
     "name": "stdout",
     "output_type": "stream",
     "text": [
      "Hello, world!\n"
     ]
    }
   ],
   "source": [
    "print(greeting)"
   ]
  },
  {
   "cell_type": "code",
   "execution_count": 13,
   "id": "b45b78ca-e63b-41c7-bf4e-524b4129ccec",
   "metadata": {
    "panel-layout": {
     "height": 0,
     "visible": true,
     "width": 100
    }
   },
   "outputs": [
    {
     "name": "stdout",
     "output_type": "stream",
     "text": [
      "13\n"
     ]
    }
   ],
   "source": [
    "print(len(greeting))"
   ]
  },
  {
   "cell_type": "code",
   "execution_count": 15,
   "id": "afc14192-5df3-4a51-bb60-24e970af9ab4",
   "metadata": {},
   "outputs": [],
   "source": [
    "sentence = \"I hope you are enjoying 30 days of python challenge\""
   ]
  },
  {
   "cell_type": "code",
   "execution_count": 17,
   "id": "14bdb82d-1b56-4f05-a901-6f41a0d36c59",
   "metadata": {
    "panel-layout": {
     "height": 0,
     "visible": true,
     "width": 100
    }
   },
   "outputs": [
    {
     "name": "stdout",
     "output_type": "stream",
     "text": [
      "I hope you are enjoying 30 days of python challenge\n"
     ]
    }
   ],
   "source": [
    "print(sentence)"
   ]
  },
  {
   "cell_type": "code",
   "execution_count": 19,
   "id": "97b7d3b4-5933-4c8b-9abe-33bd971c4fd9",
   "metadata": {
    "panel-layout": {
     "height": 0,
     "visible": true,
     "width": 100
    }
   },
   "outputs": [
    {
     "name": "stdout",
     "output_type": "stream",
     "text": [
      "51\n"
     ]
    }
   ],
   "source": [
    "print(len(sentence))"
   ]
  },
  {
   "cell_type": "markdown",
   "id": "398e1743-c4c2-45fd-bc1b-7ab8f6eb85ad",
   "metadata": {
    "panel-layout": {
     "height": 60.616668701171875,
     "visible": true,
     "width": 100
    }
   },
   "source": [
    "# Multiline String"
   ]
  },
  {
   "cell_type": "code",
   "execution_count": 23,
   "id": "e90e7239-309c-44bd-9b78-7094f013ca0a",
   "metadata": {},
   "outputs": [],
   "source": [
    "multiline_string = '''I am a teacher and enjoy teaching.\n",
    "I didn't find anything as rewarding as empowering people.\n",
    "That is why I created 30 days of python.'''"
   ]
  },
  {
   "cell_type": "code",
   "execution_count": 25,
   "id": "90b15da5-e96a-42eb-83d3-2b75118b4a80",
   "metadata": {
    "panel-layout": {
     "height": 0,
     "visible": true,
     "width": 100
    }
   },
   "outputs": [
    {
     "name": "stdout",
     "output_type": "stream",
     "text": [
      "I am a teacher and enjoy teaching.\n",
      "I didn't find anything as rewarding as empowering people.\n",
      "That is why I created 30 days of python.\n"
     ]
    }
   ],
   "source": [
    "print(multiline_string)"
   ]
  },
  {
   "cell_type": "code",
   "execution_count": 27,
   "id": "fd1033f3-3cf2-4845-a083-7bbb32711ddd",
   "metadata": {
    "panel-layout": {
     "height": 0,
     "visible": true,
     "width": 100
    }
   },
   "outputs": [
    {
     "name": "stdout",
     "output_type": "stream",
     "text": [
      "133\n"
     ]
    }
   ],
   "source": [
    "print(len(multiline_string))"
   ]
  },
  {
   "cell_type": "markdown",
   "id": "cf844a43-23a9-4573-b828-33069a6043f8",
   "metadata": {
    "panel-layout": {
     "height": 60.616668701171875,
     "visible": true,
     "width": 100
    }
   },
   "source": [
    "# Another way of doing the same thing"
   ]
  },
  {
   "cell_type": "code",
   "execution_count": 32,
   "id": "e7be5e1d-871c-41e9-9cb1-2a7d0a01064a",
   "metadata": {},
   "outputs": [],
   "source": [
    "multiline_string = \"\"\"I am a teacher and enjoy teaching.\n",
    "I didn't find anything as rewarding as empowering people.\n",
    "That is why I created 30 days of python.\"\"\""
   ]
  },
  {
   "cell_type": "code",
   "execution_count": 34,
   "id": "6a7143eb-e820-4a18-a7a6-7110b64f9d84",
   "metadata": {
    "panel-layout": {
     "height": 0,
     "visible": true,
     "width": 100
    }
   },
   "outputs": [
    {
     "name": "stdout",
     "output_type": "stream",
     "text": [
      "I am a teacher and enjoy teaching.\n",
      "I didn't find anything as rewarding as empowering people.\n",
      "That is why I created 30 days of python.\n"
     ]
    }
   ],
   "source": [
    "print(multiline_string )"
   ]
  },
  {
   "cell_type": "code",
   "execution_count": 36,
   "id": "400f86ad-4480-4fe3-9317-486a88fb12e4",
   "metadata": {
    "panel-layout": {
     "height": 0,
     "visible": true,
     "width": 100
    }
   },
   "outputs": [
    {
     "name": "stdout",
     "output_type": "stream",
     "text": [
      "133\n"
     ]
    }
   ],
   "source": [
    "print(len(multiline_string ))"
   ]
  },
  {
   "cell_type": "markdown",
   "id": "0e693bee-f5f8-49c4-92cc-f9fe6a6804c7",
   "metadata": {
    "panel-layout": {
     "height": 60.616668701171875,
     "visible": true,
     "width": 100
    }
   },
   "source": [
    "# String Concatenation"
   ]
  },
  {
   "cell_type": "code",
   "execution_count": 39,
   "id": "0c879726-9755-4ecc-8253-ddde833c77c0",
   "metadata": {},
   "outputs": [],
   "source": [
    "first_name = 'Venkatesh'"
   ]
  },
  {
   "cell_type": "code",
   "execution_count": 41,
   "id": "38cebc7d-1624-43c7-b540-67f210be5965",
   "metadata": {},
   "outputs": [],
   "source": [
    "last_name = 'Meruva'"
   ]
  },
  {
   "cell_type": "code",
   "execution_count": 43,
   "id": "4350e3d1-41c9-4f72-95b8-1940321d8f6e",
   "metadata": {},
   "outputs": [],
   "source": [
    "space = ' '"
   ]
  },
  {
   "cell_type": "code",
   "execution_count": 47,
   "id": "ebbf8627-17f8-447f-9cb2-d274bced4c0a",
   "metadata": {},
   "outputs": [],
   "source": [
    "full_name = first_name  +  space + last_name"
   ]
  },
  {
   "cell_type": "code",
   "execution_count": 49,
   "id": "2c3825c4-c82e-40ab-989a-67b1a1a26b6d",
   "metadata": {
    "panel-layout": {
     "height": 0,
     "visible": true,
     "width": 100
    }
   },
   "outputs": [
    {
     "name": "stdout",
     "output_type": "stream",
     "text": [
      "Venkatesh Meruva\n"
     ]
    }
   ],
   "source": [
    "print(full_name)"
   ]
  },
  {
   "cell_type": "markdown",
   "id": "638c842f-3b08-4449-ab62-bd36358d4f5a",
   "metadata": {
    "panel-layout": {
     "height": 60.616668701171875,
     "visible": true,
     "width": 100
    }
   },
   "source": [
    "# Checking length of a string using len() builtin function"
   ]
  },
  {
   "cell_type": "code",
   "execution_count": 52,
   "id": "70dd8ee1-d7ab-4d39-b21f-f239087e0683",
   "metadata": {
    "panel-layout": {
     "height": 0,
     "visible": true,
     "width": 100
    }
   },
   "outputs": [
    {
     "name": "stdout",
     "output_type": "stream",
     "text": [
      "9\n"
     ]
    }
   ],
   "source": [
    "print(len(first_name))"
   ]
  },
  {
   "cell_type": "code",
   "execution_count": 54,
   "id": "45910fb8-3296-4a11-8c4c-fa77b77795d1",
   "metadata": {
    "panel-layout": {
     "height": 0,
     "visible": true,
     "width": 100
    }
   },
   "outputs": [
    {
     "name": "stdout",
     "output_type": "stream",
     "text": [
      "6\n"
     ]
    }
   ],
   "source": [
    "print(len(last_name))"
   ]
  },
  {
   "cell_type": "code",
   "execution_count": 56,
   "id": "4ac2db1a-6ccb-4e1b-975f-f7bd41fd99df",
   "metadata": {
    "panel-layout": {
     "height": 0,
     "visible": true,
     "width": 100
    }
   },
   "outputs": [
    {
     "name": "stdout",
     "output_type": "stream",
     "text": [
      "True\n"
     ]
    }
   ],
   "source": [
    "print(len(first_name) > len(last_name))"
   ]
  },
  {
   "cell_type": "code",
   "execution_count": 58,
   "id": "462e2a76-266e-41fc-871c-bf1fab477fa3",
   "metadata": {
    "panel-layout": {
     "height": 0,
     "visible": true,
     "width": 100
    }
   },
   "outputs": [
    {
     "name": "stdout",
     "output_type": "stream",
     "text": [
      "16\n"
     ]
    }
   ],
   "source": [
    "print(len(full_name))"
   ]
  },
  {
   "cell_type": "markdown",
   "id": "d8090e58-1b49-475c-84c2-bae5bef438dd",
   "metadata": {
    "panel-layout": {
     "height": 60.616668701171875,
     "visible": true,
     "width": 100
    }
   },
   "source": [
    "# Unpacking characters "
   ]
  },
  {
   "cell_type": "code",
   "execution_count": 62,
   "id": "bb143d97-25f9-48da-99be-7380ac14be84",
   "metadata": {},
   "outputs": [],
   "source": [
    "language = 'Python'"
   ]
  },
  {
   "cell_type": "code",
   "execution_count": 66,
   "id": "c34c84b2-e9b2-471f-ae9d-69a367f5b329",
   "metadata": {},
   "outputs": [],
   "source": [
    "a,b,c,d,e,f = language "
   ]
  },
  {
   "cell_type": "code",
   "execution_count": 68,
   "id": "45b5f5e5-7b9a-4b3e-a2ac-87ee716e6c1c",
   "metadata": {
    "panel-layout": {
     "height": 0,
     "visible": true,
     "width": 100
    }
   },
   "outputs": [
    {
     "name": "stdout",
     "output_type": "stream",
     "text": [
      "P\n"
     ]
    }
   ],
   "source": [
    "print(a)"
   ]
  },
  {
   "cell_type": "code",
   "execution_count": 70,
   "id": "5f258d58-009c-4b0c-b8ec-5052269b5c5b",
   "metadata": {
    "panel-layout": {
     "height": 0,
     "visible": true,
     "width": 100
    }
   },
   "outputs": [
    {
     "name": "stdout",
     "output_type": "stream",
     "text": [
      "P\n",
      "y\n",
      "t\n",
      "h\n",
      "o\n",
      "n\n"
     ]
    }
   ],
   "source": [
    "print(a)\n",
    "print(b)\n",
    "print(c)\n",
    "print(d)\n",
    "print(e)\n",
    "print(f)\n"
   ]
  },
  {
   "cell_type": "markdown",
   "id": "b7748106-3fd2-43a6-8571-1e56c9fc09ac",
   "metadata": {
    "panel-layout": {
     "height": 60.616668701171875,
     "visible": true,
     "width": 100
    }
   },
   "source": [
    "# Accessing characters in strings by index"
   ]
  },
  {
   "cell_type": "code",
   "execution_count": 73,
   "id": "c2afabfd-27fa-4049-bcbc-1c107d7c310d",
   "metadata": {},
   "outputs": [],
   "source": [
    "language = 'Python'"
   ]
  },
  {
   "cell_type": "code",
   "execution_count": 75,
   "id": "6757e55d-8b75-4da8-a2d6-473778f1cb95",
   "metadata": {},
   "outputs": [],
   "source": [
    "first_letter = language[0]"
   ]
  },
  {
   "cell_type": "code",
   "execution_count": 77,
   "id": "cfef6334-fbb4-4b1f-bec3-519921c30fee",
   "metadata": {
    "panel-layout": {
     "height": 0,
     "visible": true,
     "width": 100
    }
   },
   "outputs": [
    {
     "name": "stdout",
     "output_type": "stream",
     "text": [
      "P\n"
     ]
    }
   ],
   "source": [
    "print(first_letter)"
   ]
  },
  {
   "cell_type": "code",
   "execution_count": 79,
   "id": "17ed2844-f4a3-4f95-9b16-406527cab8ed",
   "metadata": {},
   "outputs": [],
   "source": [
    "second_letter = language[1]"
   ]
  },
  {
   "cell_type": "code",
   "execution_count": 81,
   "id": "0a73cb0d-32a8-44dc-b812-168659be48ef",
   "metadata": {
    "panel-layout": {
     "height": 0,
     "visible": true,
     "width": 100
    }
   },
   "outputs": [
    {
     "name": "stdout",
     "output_type": "stream",
     "text": [
      "y\n"
     ]
    }
   ],
   "source": [
    "print(second_letter)"
   ]
  },
  {
   "cell_type": "code",
   "execution_count": 83,
   "id": "ec698988-3ef0-4eb8-aecd-0524910c9af7",
   "metadata": {},
   "outputs": [],
   "source": [
    "last_index = len(language) - 1"
   ]
  },
  {
   "cell_type": "code",
   "execution_count": 100,
   "id": "e7db133b-7488-494f-87d3-4fe14494d303",
   "metadata": {},
   "outputs": [],
   "source": [
    "last_letter = language[last_index]"
   ]
  },
  {
   "cell_type": "code",
   "execution_count": 87,
   "id": "0716883e-15a7-4eec-902c-796899c76a7e",
   "metadata": {
    "panel-layout": {
     "height": 0,
     "visible": true,
     "width": 100
    }
   },
   "outputs": [
    {
     "name": "stdout",
     "output_type": "stream",
     "text": [
      "n\n"
     ]
    }
   ],
   "source": [
    "print(last_letter)"
   ]
  },
  {
   "cell_type": "markdown",
   "id": "8c5ae98e-60f7-4a8a-b9f2-7e3dd2af096c",
   "metadata": {
    "panel-layout": {
     "height": 60.616668701171875,
     "visible": true,
     "width": 100
    }
   },
   "source": [
    "# Slicing"
   ]
  },
  {
   "cell_type": "code",
   "execution_count": 90,
   "id": "9f7b4cba-1933-4712-9021-00d3914f9d10",
   "metadata": {},
   "outputs": [],
   "source": [
    "language = 'Python'"
   ]
  },
  {
   "cell_type": "code",
   "execution_count": 92,
   "id": "76577237-b8e2-47af-8b60-e0a3154f3a12",
   "metadata": {},
   "outputs": [],
   "source": [
    "first_three = language[0:3]"
   ]
  },
  {
   "cell_type": "code",
   "execution_count": 94,
   "id": "294f1619-38a9-4b67-8e65-200dc7a9c994",
   "metadata": {},
   "outputs": [],
   "source": [
    "last_three = language[3:6]"
   ]
  },
  {
   "cell_type": "code",
   "execution_count": 96,
   "id": "03c50706-0987-4048-8764-6fce440a399b",
   "metadata": {
    "panel-layout": {
     "height": 0,
     "visible": true,
     "width": 100
    }
   },
   "outputs": [
    {
     "name": "stdout",
     "output_type": "stream",
     "text": [
      "hon\n"
     ]
    }
   ],
   "source": [
    "print(last_three)"
   ]
  },
  {
   "cell_type": "code",
   "execution_count": 98,
   "id": "9fb60887-353c-4bd5-a246-b9fc0cae5097",
   "metadata": {
    "panel-layout": {
     "height": 0,
     "visible": true,
     "width": 100
    }
   },
   "outputs": [
    {
     "name": "stdout",
     "output_type": "stream",
     "text": [
      "Pyt\n"
     ]
    }
   ],
   "source": [
    "print(first_three)"
   ]
  },
  {
   "cell_type": "markdown",
   "id": "06c2b9ad-3a32-42dd-b746-e3adb75e648d",
   "metadata": {
    "panel-layout": {
     "height": 60.616668701171875,
     "visible": true,
     "width": 100
    }
   },
   "source": [
    "# Another way"
   ]
  },
  {
   "cell_type": "code",
   "execution_count": 103,
   "id": "d6e8a09b-e54e-4a63-928c-a3ed97743dd6",
   "metadata": {},
   "outputs": [],
   "source": [
    "last_three = language[-3:]"
   ]
  },
  {
   "cell_type": "code",
   "execution_count": 105,
   "id": "ae5ceeaa-1a09-4697-a0ab-e8dff74b8607",
   "metadata": {
    "panel-layout": {
     "height": 0,
     "visible": true,
     "width": 100
    }
   },
   "outputs": [
    {
     "name": "stdout",
     "output_type": "stream",
     "text": [
      "hon\n"
     ]
    }
   ],
   "source": [
    "print(last_three)"
   ]
  },
  {
   "cell_type": "code",
   "execution_count": 107,
   "id": "9e047853-33eb-43a5-9147-c03e04a14b2c",
   "metadata": {},
   "outputs": [],
   "source": [
    "last_three = language[3:]"
   ]
  },
  {
   "cell_type": "code",
   "execution_count": 109,
   "id": "dbfee2de-bd85-4e1b-8c32-3902b7d3d712",
   "metadata": {
    "panel-layout": {
     "height": 0,
     "visible": true,
     "width": 100
    }
   },
   "outputs": [
    {
     "name": "stdout",
     "output_type": "stream",
     "text": [
      "hon\n"
     ]
    }
   ],
   "source": [
    "print(last_three)"
   ]
  },
  {
   "cell_type": "markdown",
   "id": "e5e2f8db-bbe1-43a4-86ff-d788494a1995",
   "metadata": {
    "panel-layout": {
     "height": 60.616668701171875,
     "visible": true,
     "width": 100
    }
   },
   "source": [
    "# Skipping character while splitting Python strings"
   ]
  },
  {
   "cell_type": "code",
   "execution_count": 114,
   "id": "f1157466-bda6-4576-a4e2-500423784cc0",
   "metadata": {},
   "outputs": [],
   "source": [
    "language = 'Python'"
   ]
  },
  {
   "cell_type": "code",
   "execution_count": 116,
   "id": "ea3f103d-560c-4ef0-b109-a5ddf0a84ae4",
   "metadata": {},
   "outputs": [],
   "source": [
    "pto = language[0:6:2]"
   ]
  },
  {
   "cell_type": "code",
   "execution_count": 118,
   "id": "bed4e34a-c4cc-43cc-9ec2-6d10fcca3443",
   "metadata": {
    "panel-layout": {
     "height": 0,
     "visible": true,
     "width": 100
    }
   },
   "outputs": [
    {
     "name": "stdout",
     "output_type": "stream",
     "text": [
      "Pto\n"
     ]
    }
   ],
   "source": [
    "print(pto)"
   ]
  },
  {
   "cell_type": "code",
   "execution_count": 124,
   "id": "57729f2b-3055-4443-b21e-ccbb162e1c7c",
   "metadata": {},
   "outputs": [],
   "source": [
    "pto = language[1:6:2]"
   ]
  },
  {
   "cell_type": "code",
   "execution_count": 126,
   "id": "07827303-3b59-4d68-84dc-ab618588ed8e",
   "metadata": {
    "panel-layout": {
     "height": 0,
     "visible": true,
     "width": 100
    }
   },
   "outputs": [
    {
     "name": "stdout",
     "output_type": "stream",
     "text": [
      "yhn\n"
     ]
    }
   ],
   "source": [
    "print(pto)"
   ]
  },
  {
   "cell_type": "markdown",
   "id": "21483c7f-e360-473c-ba47-9d7a50289ff9",
   "metadata": {
    "panel-layout": {
     "height": 60.616668701171875,
     "visible": true,
     "width": 100
    }
   },
   "source": [
    "# Escape sequence"
   ]
  },
  {
   "cell_type": "code",
   "execution_count": 129,
   "id": "820b9283-2cfc-488e-a07b-70a5e7d0becb",
   "metadata": {
    "panel-layout": {
     "height": 0,
     "visible": true,
     "width": 100
    }
   },
   "outputs": [
    {
     "name": "stdout",
     "output_type": "stream",
     "text": [
      "I hope every one enjoying the python challenge.\n",
      "Do you ?\n"
     ]
    }
   ],
   "source": [
    "print('I hope every one enjoying the python challenge.\\nDo you ?') "
   ]
  },
  {
   "cell_type": "code",
   "execution_count": 131,
   "id": "53c2a8fe-4447-4ec5-99da-e4a52a1d3c7b",
   "metadata": {
    "panel-layout": {
     "height": 0,
     "visible": true,
     "width": 100
    }
   },
   "outputs": [
    {
     "name": "stdout",
     "output_type": "stream",
     "text": [
      "Days\tTopics\tExercises\n"
     ]
    }
   ],
   "source": [
    "print('Days\\tTopics\\tExercises')"
   ]
  },
  {
   "cell_type": "code",
   "execution_count": 133,
   "id": "1658bfa2-30ee-4bca-939b-b667c288f50d",
   "metadata": {
    "panel-layout": {
     "height": 0,
     "visible": true,
     "width": 100
    }
   },
   "outputs": [
    {
     "name": "stdout",
     "output_type": "stream",
     "text": [
      "Day 1\t3\t5\n"
     ]
    }
   ],
   "source": [
    "print('Day 1\\t3\\t5')"
   ]
  },
  {
   "cell_type": "code",
   "execution_count": 135,
   "id": "b80fde28-a144-41b8-b526-1d1b23085762",
   "metadata": {
    "panel-layout": {
     "height": 0,
     "visible": true,
     "width": 100
    }
   },
   "outputs": [
    {
     "name": "stdout",
     "output_type": "stream",
     "text": [
      "Day 2\t3\t5\n"
     ]
    }
   ],
   "source": [
    "print('Day 2\\t3\\t5')"
   ]
  },
  {
   "cell_type": "code",
   "execution_count": 137,
   "id": "9e4a7859-91e8-4e23-96d0-583e6d56393e",
   "metadata": {
    "panel-layout": {
     "height": 0,
     "visible": true,
     "width": 100
    }
   },
   "outputs": [
    {
     "name": "stdout",
     "output_type": "stream",
     "text": [
      "Day 3\t3\t5\n"
     ]
    }
   ],
   "source": [
    "print('Day 3\\t3\\t5')"
   ]
  },
  {
   "cell_type": "code",
   "execution_count": 139,
   "id": "5dcbc9ce-0b60-439a-8462-4ec24b0241ac",
   "metadata": {
    "panel-layout": {
     "height": 0,
     "visible": true,
     "width": 100
    }
   },
   "outputs": [
    {
     "name": "stdout",
     "output_type": "stream",
     "text": [
      "Day 4\t3\t5\n"
     ]
    }
   ],
   "source": [
    "print('Day 4\\t3\\t5')"
   ]
  },
  {
   "cell_type": "code",
   "execution_count": 141,
   "id": "e8b74521-f5c6-43d5-afc9-eb7d744012bf",
   "metadata": {
    "panel-layout": {
     "height": 0,
     "visible": true,
     "width": 100
    }
   },
   "outputs": [
    {
     "name": "stdout",
     "output_type": "stream",
     "text": [
      "This is a back slash  symbol (\\)\n"
     ]
    }
   ],
   "source": [
    "print('This is a back slash  symbol (\\\\)') "
   ]
  },
  {
   "cell_type": "code",
   "execution_count": 143,
   "id": "172ea9f0-1ae6-4adc-85ff-30ffbf19f456",
   "metadata": {
    "panel-layout": {
     "height": 0,
     "visible": true,
     "width": 100
    }
   },
   "outputs": [
    {
     "name": "stdout",
     "output_type": "stream",
     "text": [
      "In every programming language it starts with \"Hello, World!\"\n"
     ]
    }
   ],
   "source": [
    "print('In every programming language it starts with \\\"Hello, World!\\\"')"
   ]
  },
  {
   "cell_type": "markdown",
   "id": "021c523d-419b-4094-9981-cf06a27f7376",
   "metadata": {
    "panel-layout": {
     "height": 50.850006103515625,
     "visible": true,
     "width": 100
    }
   },
   "source": [
    "## String Methods"
   ]
  },
  {
   "cell_type": "markdown",
   "id": "08fe0965-487f-4eaf-a998-685acc00dd5e",
   "metadata": {
    "panel-layout": {
     "height": 94.90000915527344,
     "visible": true,
     "width": 100
    }
   },
   "source": [
    "# capitalize(): Converts the first character the string to Capital Letterchallenge = 'thirty days of python'"
   ]
  },
  {
   "cell_type": "code",
   "execution_count": 148,
   "id": "ae099b6d-08cb-4ced-a351-559ed83b5614",
   "metadata": {},
   "outputs": [],
   "source": [
    "challenge = 'thirty days of python'"
   ]
  },
  {
   "cell_type": "code",
   "execution_count": 150,
   "id": "d0bbe966-57f5-4968-affa-b3a82c7f0d28",
   "metadata": {
    "panel-layout": {
     "height": 0,
     "visible": true,
     "width": 100
    }
   },
   "outputs": [
    {
     "name": "stdout",
     "output_type": "stream",
     "text": [
      "Thirty days of python\n"
     ]
    }
   ],
   "source": [
    "print(challenge.capitalize())"
   ]
  },
  {
   "cell_type": "code",
   "execution_count": 152,
   "id": "c2ab6f0e-600b-4567-bbe8-71c3045a6217",
   "metadata": {},
   "outputs": [],
   "source": [
    "f_name='sree ram chandra meruva'"
   ]
  },
  {
   "cell_type": "code",
   "execution_count": 154,
   "id": "a3cfecbe-642b-49e7-a653-865eead9527e",
   "metadata": {
    "panel-layout": {
     "height": 0,
     "visible": true,
     "width": 100
    }
   },
   "outputs": [
    {
     "name": "stdout",
     "output_type": "stream",
     "text": [
      "Sree ram chandra meruva\n"
     ]
    }
   ],
   "source": [
    "print(f_name.capitalize())"
   ]
  },
  {
   "cell_type": "markdown",
   "id": "e874d84b-e996-4f71-80d5-a4d123dd5150",
   "metadata": {
    "panel-layout": {
     "height": 60.616668701171875,
     "visible": true,
     "width": 100
    }
   },
   "source": [
    "# count(): returns occurrences of substring in string, count(substring, start=.., end=..)"
   ]
  },
  {
   "cell_type": "code",
   "execution_count": 157,
   "id": "bed60da6-5568-4068-9623-1355432c1919",
   "metadata": {},
   "outputs": [],
   "source": [
    "challenge = 'thirty days of python'"
   ]
  },
  {
   "cell_type": "code",
   "execution_count": 159,
   "id": "a691c540-03ac-4b21-97a7-abd351b158c5",
   "metadata": {
    "panel-layout": {
     "height": 0,
     "visible": true,
     "width": 100
    }
   },
   "outputs": [
    {
     "name": "stdout",
     "output_type": "stream",
     "text": [
      "3\n"
     ]
    }
   ],
   "source": [
    "print(challenge.count('y'))\n"
   ]
  },
  {
   "cell_type": "code",
   "execution_count": 165,
   "id": "4c1f7796-2ba1-40f0-951a-5f2ae697d059",
   "metadata": {
    "panel-layout": {
     "height": 0,
     "visible": true,
     "width": 100
    }
   },
   "outputs": [
    {
     "name": "stdout",
     "output_type": "stream",
     "text": [
      "1\n"
     ]
    }
   ],
   "source": [
    "print(challenge.count('y', 7, 14))"
   ]
  },
  {
   "cell_type": "code",
   "execution_count": 167,
   "id": "74c7a390-b74b-47c0-9fe0-793777236df1",
   "metadata": {
    "panel-layout": {
     "height": 0,
     "visible": true,
     "width": 100
    }
   },
   "outputs": [
    {
     "name": "stdout",
     "output_type": "stream",
     "text": [
      "2\n"
     ]
    }
   ],
   "source": [
    "print(challenge.count('th'))"
   ]
  },
  {
   "cell_type": "markdown",
   "id": "2ded0d27-90eb-481a-90c1-6d8ee19af8cb",
   "metadata": {
    "panel-layout": {
     "height": 60.616668701171875,
     "visible": true,
     "width": 100
    }
   },
   "source": [
    "# endswith(): Checks if a string ends with a specified ending"
   ]
  },
  {
   "cell_type": "code",
   "execution_count": 170,
   "id": "10e48179-6cb6-4b33-93f0-80eb4f704ea3",
   "metadata": {},
   "outputs": [],
   "source": [
    "challenge = 'thirty days of python'"
   ]
  },
  {
   "cell_type": "code",
   "execution_count": 172,
   "id": "40e4b17e-fd34-4f69-bed1-5b75e9b2bcca",
   "metadata": {
    "panel-layout": {
     "height": 0,
     "visible": true,
     "width": 100
    }
   },
   "outputs": [
    {
     "name": "stdout",
     "output_type": "stream",
     "text": [
      "True\n"
     ]
    }
   ],
   "source": [
    "print(challenge.endswith('on'))"
   ]
  },
  {
   "cell_type": "code",
   "execution_count": 178,
   "id": "9e2e1801-1518-4d01-b70d-6efd26fbbfa9",
   "metadata": {
    "panel-layout": {
     "height": 0,
     "visible": true,
     "width": 100
    }
   },
   "outputs": [
    {
     "name": "stdout",
     "output_type": "stream",
     "text": [
      "False\n"
     ]
    }
   ],
   "source": [
    "print(challenge.endswith('tion'))"
   ]
  },
  {
   "cell_type": "markdown",
   "id": "dd09fbf1-e7d6-4b0a-ae6d-ab288da983a5",
   "metadata": {
    "panel-layout": {
     "height": 94.90000915527344,
     "visible": true,
     "width": 100
    }
   },
   "source": [
    "# expandtabs(): Replaces tab character with spaces, default tab size is 8. It takes tab size argument"
   ]
  },
  {
   "cell_type": "code",
   "execution_count": 181,
   "id": "89926006-01cd-4b1a-9bc8-543a186eb466",
   "metadata": {},
   "outputs": [],
   "source": [
    "challenge = 'thirty\\tdays\\tof\\tpython'"
   ]
  },
  {
   "cell_type": "code",
   "execution_count": 183,
   "id": "b3f2917e-dee9-4257-b220-016459ff94c7",
   "metadata": {
    "panel-layout": {
     "height": 0,
     "visible": true,
     "width": 100
    }
   },
   "outputs": [
    {
     "name": "stdout",
     "output_type": "stream",
     "text": [
      "thirty  days    of      python\n"
     ]
    }
   ],
   "source": [
    "print(challenge.expandtabs())"
   ]
  },
  {
   "cell_type": "code",
   "execution_count": 187,
   "id": "6fb9af86-273d-4c38-bcfc-57283506a081",
   "metadata": {
    "panel-layout": {
     "height": 0,
     "visible": true,
     "width": 100
    }
   },
   "outputs": [
    {
     "name": "stdout",
     "output_type": "stream",
     "text": [
      "thirty days of python\n"
     ]
    }
   ],
   "source": [
    "print(challenge.expandtabs(1))"
   ]
  },
  {
   "cell_type": "code",
   "execution_count": 189,
   "id": "0a3d4cec-0b24-4ffd-8d1a-6eb4f0b31550",
   "metadata": {
    "panel-layout": {
     "height": 0,
     "visible": true,
     "width": 100
    }
   },
   "outputs": [
    {
     "name": "stdout",
     "output_type": "stream",
     "text": [
      "thirty    days      of        python\n"
     ]
    }
   ],
   "source": [
    "print(challenge.expandtabs(10))"
   ]
  },
  {
   "cell_type": "code",
   "execution_count": 191,
   "id": "b3e787f7-35ee-44c3-be7a-b1d8b36b0966",
   "metadata": {
    "panel-layout": {
     "height": 0,
     "visible": true,
     "width": 100
    }
   },
   "outputs": [
    {
     "name": "stdout",
     "output_type": "stream",
     "text": [
      "thirtydaysofpython\n"
     ]
    }
   ],
   "source": [
    "print(challenge.expandtabs(0))"
   ]
  },
  {
   "cell_type": "markdown",
   "id": "3c5eaaa5-a831-489e-a371-93124ef416e8",
   "metadata": {
    "panel-layout": {
     "height": 60.616668701171875,
     "visible": true,
     "width": 100
    }
   },
   "source": [
    "# find(): Returns the index of first occurrence of substring"
   ]
  },
  {
   "cell_type": "code",
   "execution_count": 196,
   "id": "bb082598-370e-4dc5-ae52-e642891378bc",
   "metadata": {},
   "outputs": [],
   "source": [
    "challenge = 'thirty days of python'"
   ]
  },
  {
   "cell_type": "code",
   "execution_count": 198,
   "id": "b4915830-7e00-4f24-8dfe-55661c3facb8",
   "metadata": {
    "panel-layout": {
     "height": 0,
     "visible": true,
     "width": 100
    }
   },
   "outputs": [
    {
     "name": "stdout",
     "output_type": "stream",
     "text": [
      "5\n"
     ]
    }
   ],
   "source": [
    "print(challenge.find('y'))"
   ]
  },
  {
   "cell_type": "code",
   "execution_count": 208,
   "id": "5540a416-0a8a-444c-a0f1-a8b93805ae8b",
   "metadata": {
    "panel-layout": {
     "height": 0,
     "visible": true,
     "width": 100
    }
   },
   "outputs": [
    {
     "name": "stdout",
     "output_type": "stream",
     "text": [
      "6\n"
     ]
    }
   ],
   "source": [
    "print(challenge.find(' '))"
   ]
  },
  {
   "cell_type": "code",
   "execution_count": 206,
   "id": "d7c95f28-1f96-428f-b6f8-af67e7f8b182",
   "metadata": {
    "panel-layout": {
     "height": 0,
     "visible": true,
     "width": 100
    }
   },
   "outputs": [
    {
     "name": "stdout",
     "output_type": "stream",
     "text": [
      "0\n"
     ]
    }
   ],
   "source": [
    "print(challenge.find('th'))"
   ]
  },
  {
   "cell_type": "markdown",
   "id": "17e6b9bd-fea8-4374-818e-6dfd8a01391f",
   "metadata": {
    "panel-layout": {
     "height": 60.616668701171875,
     "visible": true,
     "width": 100
    }
   },
   "source": [
    "# format()\tformats string into nicer output "
   ]
  },
  {
   "cell_type": "code",
   "execution_count": 215,
   "id": "cefce7b7-4914-45eb-82ad-faf47c242d10",
   "metadata": {},
   "outputs": [],
   "source": [
    "first_name = 'venkatesh'"
   ]
  },
  {
   "cell_type": "code",
   "execution_count": 217,
   "id": "7838f789-58f7-41c0-81f3-dca23bd94df2",
   "metadata": {},
   "outputs": [],
   "source": [
    "last_name = 'meruva'"
   ]
  },
  {
   "cell_type": "code",
   "execution_count": 219,
   "id": "4fff11f1-462c-4d71-afce-caea3eb2205a",
   "metadata": {},
   "outputs": [],
   "source": [
    "job = 'software Engneer'"
   ]
  },
  {
   "cell_type": "code",
   "execution_count": 221,
   "id": "ca490100-e229-4c21-aaf0-09b93cb4a5f6",
   "metadata": {},
   "outputs": [],
   "source": [
    "country = 'Finland'"
   ]
  },
  {
   "cell_type": "code",
   "execution_count": 223,
   "id": "c279de66-38f8-47f9-83c9-d1b117ab06a6",
   "metadata": {},
   "outputs": [],
   "source": [
    "sentence = 'I am {} {}. I am a {}. I live in {}.'.format(first_name, last_name, job, country)"
   ]
  },
  {
   "cell_type": "code",
   "execution_count": 225,
   "id": "4a8ef4d4-1fa3-4b13-bda4-5a5b4e4f083d",
   "metadata": {
    "panel-layout": {
     "height": 0,
     "visible": true,
     "width": 100
    }
   },
   "outputs": [
    {
     "name": "stdout",
     "output_type": "stream",
     "text": [
      "I am venkatesh meruva. I am a software Engneer. I live in Finland.\n"
     ]
    }
   ],
   "source": [
    "print(sentence)"
   ]
  },
  {
   "cell_type": "code",
   "execution_count": 227,
   "id": "a809d598-f596-4de3-a78f-73e06b1f1ff1",
   "metadata": {
    "panel-layout": {
     "height": 0,
     "visible": true,
     "width": 100
    }
   },
   "outputs": [
    {
     "name": "stdout",
     "output_type": "stream",
     "text": [
      "The area of circle with 10 is 3.14\n"
     ]
    }
   ],
   "source": [
    "radius = 10\n",
    "pi = 3.14\n",
    "area = pi\n",
    "result = 'The area of circle with {} is {}'.format(str(radius), str(area))\n",
    "print(result)"
   ]
  },
  {
   "cell_type": "markdown",
   "id": "63391162-dd4f-475d-aeea-2a44832abf0c",
   "metadata": {
    "panel-layout": {
     "height": 60.616668701171875,
     "visible": true,
     "width": 100
    }
   },
   "source": [
    "# index(): Returns the index of substring"
   ]
  },
  {
   "cell_type": "code",
   "execution_count": 230,
   "id": "fa43f699-1644-4207-be9d-dc928599a2f6",
   "metadata": {
    "panel-layout": {
     "height": 0,
     "visible": true,
     "width": 100
    }
   },
   "outputs": [
    {
     "name": "stdout",
     "output_type": "stream",
     "text": [
      "5\n",
      "0\n"
     ]
    }
   ],
   "source": [
    "challenge = 'thirty days of python'\n",
    "print(challenge.find('y')) \n",
    "print(challenge.find('th')) "
   ]
  },
  {
   "cell_type": "markdown",
   "id": "b1eb4045-5ca4-4cc8-96d3-e1ab48a7ffb2",
   "metadata": {
    "panel-layout": {
     "height": 60.616668701171875,
     "visible": true,
     "width": 100
    }
   },
   "source": [
    "# isalnum(): Checks alphanumeric character"
   ]
  },
  {
   "cell_type": "code",
   "execution_count": 233,
   "id": "97bc7106-e6ad-48fb-b78e-fce4b004eca3",
   "metadata": {
    "panel-layout": {
     "height": 0,
     "visible": true,
     "width": 100
    }
   },
   "outputs": [
    {
     "name": "stdout",
     "output_type": "stream",
     "text": [
      "True\n"
     ]
    }
   ],
   "source": [
    "challenge = 'ThirtyDaysPython'\n",
    "print(challenge.isalnum())"
   ]
  },
  {
   "cell_type": "code",
   "execution_count": 254,
   "id": "8fcbfd7c-26bd-4262-a410-6472739b8d3e",
   "metadata": {
    "panel-layout": {
     "height": 0,
     "visible": true,
     "width": 100
    }
   },
   "outputs": [
    {
     "name": "stdout",
     "output_type": "stream",
     "text": [
      "False\n"
     ]
    }
   ],
   "source": [
    "challenge = 'Thirty Days Python'\n",
    "print(challenge.isalnum())"
   ]
  },
  {
   "cell_type": "code",
   "execution_count": 239,
   "id": "cc8d5f13-3feb-466d-9b30-47016707a9eb",
   "metadata": {
    "panel-layout": {
     "height": 0,
     "visible": true,
     "width": 100
    }
   },
   "outputs": [
    {
     "name": "stdout",
     "output_type": "stream",
     "text": [
      "False\n"
     ]
    }
   ],
   "source": [
    "challenge = '    '\n",
    "print(challenge.isalnum())"
   ]
  },
  {
   "cell_type": "code",
   "execution_count": 243,
   "id": "714a7470-be4d-48dd-b108-a386a6907d67",
   "metadata": {
    "panel-layout": {
     "height": 0,
     "visible": true,
     "width": 100
    }
   },
   "outputs": [
    {
     "name": "stdout",
     "output_type": "stream",
     "text": [
      "False\n"
     ]
    }
   ],
   "source": [
    "challenge = '  #  '\n",
    "print(challenge.isalnum())"
   ]
  },
  {
   "cell_type": "code",
   "execution_count": 249,
   "id": "176303c6-42a7-415f-8d1f-35ac8df3a022",
   "metadata": {
    "panel-layout": {
     "height": 0,
     "visible": true,
     "width": 100
    }
   },
   "outputs": [
    {
     "name": "stdout",
     "output_type": "stream",
     "text": [
      "False\n"
     ]
    }
   ],
   "source": [
    "challenge = '10 Days'\n",
    "print(challenge.isalnum())"
   ]
  },
  {
   "cell_type": "code",
   "execution_count": 251,
   "id": "c621c517-aee3-4bfa-81d3-40a9910c06f9",
   "metadata": {
    "panel-layout": {
     "height": 0,
     "visible": true,
     "width": 100
    }
   },
   "outputs": [
    {
     "name": "stdout",
     "output_type": "stream",
     "text": [
      "True\n"
     ]
    }
   ],
   "source": [
    "challenge = '10Days'\n",
    "print(challenge.isalnum())"
   ]
  },
  {
   "cell_type": "markdown",
   "id": "8cda8f27-e6c3-4d78-9706-c89050e6428d",
   "metadata": {
    "panel-layout": {
     "height": 60.616668701171875,
     "visible": true,
     "width": 100
    }
   },
   "source": [
    "# isalpha(): Checks if all characters are alphabets"
   ]
  },
  {
   "cell_type": "code",
   "execution_count": 256,
   "id": "28f1a12d-e949-496f-be7b-efa64a62d9c9",
   "metadata": {
    "panel-layout": {
     "height": 0,
     "visible": true,
     "width": 100
    }
   },
   "outputs": [
    {
     "name": "stdout",
     "output_type": "stream",
     "text": [
      "False\n"
     ]
    }
   ],
   "source": [
    "challenge = 'thirty days of python'\n",
    "print(challenge.isalpha())"
   ]
  },
  {
   "cell_type": "code",
   "execution_count": 258,
   "id": "ec6a7945-dec9-47bc-8252-f04ed83832b3",
   "metadata": {
    "panel-layout": {
     "height": 0,
     "visible": true,
     "width": 100
    }
   },
   "outputs": [
    {
     "name": "stdout",
     "output_type": "stream",
     "text": [
      "True\n"
     ]
    }
   ],
   "source": [
    "challenge = 'thirtydaysofpython'\n",
    "print(challenge.isalpha())"
   ]
  },
  {
   "cell_type": "markdown",
   "id": "0febcb58-9b95-4e9b-99bd-c70423fcfc8c",
   "metadata": {
    "panel-layout": {
     "height": 60.616668701171875,
     "visible": true,
     "width": 100
    }
   },
   "source": [
    "# isdecimal(): Checks Decimal Characters"
   ]
  },
  {
   "cell_type": "code",
   "execution_count": 262,
   "id": "c7d27778-1aeb-404f-bd4e-0d6b27b13854",
   "metadata": {
    "panel-layout": {
     "height": 0,
     "visible": true,
     "width": 100
    }
   },
   "outputs": [
    {
     "name": "stdout",
     "output_type": "stream",
     "text": [
      "5\n",
      "0\n"
     ]
    }
   ],
   "source": [
    "challenge = 'thirty days of python'\n",
    "print(challenge.find('y'))  \n",
    "print(challenge.find('th')) "
   ]
  },
  {
   "cell_type": "markdown",
   "id": "42c685cc-7cf1-4739-9496-7dfa8aadc154",
   "metadata": {
    "panel-layout": {
     "height": 60.616668701171875,
     "visible": true,
     "width": 100
    }
   },
   "source": [
    "# isdigit(): Checks Digit Characters"
   ]
  },
  {
   "cell_type": "code",
   "execution_count": 265,
   "id": "d0168c54-0fcb-4a4b-993d-b6eca42bc86b",
   "metadata": {
    "panel-layout": {
     "height": 0,
     "visible": true,
     "width": 100
    }
   },
   "outputs": [
    {
     "name": "stdout",
     "output_type": "stream",
     "text": [
      "False\n"
     ]
    }
   ],
   "source": [
    "challenge = 'Thirty'\n",
    "print(challenge.isdigit()) "
   ]
  },
  {
   "cell_type": "code",
   "execution_count": 269,
   "id": "37a12e25-a270-4a19-86d1-c3e87fd11286",
   "metadata": {
    "panel-layout": {
     "height": 0,
     "visible": true,
     "width": 100
    }
   },
   "outputs": [
    {
     "name": "stdout",
     "output_type": "stream",
     "text": [
      "True\n"
     ]
    }
   ],
   "source": [
    "challenge = '30'\n",
    "print(challenge.isdigit())"
   ]
  },
  {
   "cell_type": "markdown",
   "id": "4102f139-7baf-4cc1-ba0b-35078c028149",
   "metadata": {
    "panel-layout": {
     "height": 60.616668701171875,
     "visible": true,
     "width": 100
    }
   },
   "source": [
    "# isdecimal():Checks decimal characters"
   ]
  },
  {
   "cell_type": "code",
   "execution_count": 272,
   "id": "161558b3-b8d8-45bf-84b5-2efcd432b0e5",
   "metadata": {
    "panel-layout": {
     "height": 0,
     "visible": true,
     "width": 100
    }
   },
   "outputs": [
    {
     "name": "stdout",
     "output_type": "stream",
     "text": [
      "True\n"
     ]
    }
   ],
   "source": [
    "num = '10'\n",
    "print(num.isdecimal())"
   ]
  },
  {
   "cell_type": "code",
   "execution_count": 274,
   "id": "110eaec2-05fe-407c-ab52-0040c69eb1a7",
   "metadata": {
    "panel-layout": {
     "height": 0,
     "visible": true,
     "width": 100
    }
   },
   "outputs": [
    {
     "name": "stdout",
     "output_type": "stream",
     "text": [
      "False\n"
     ]
    }
   ],
   "source": [
    "num = '10.5123'\n",
    "print(num.isdecimal()) "
   ]
  },
  {
   "cell_type": "markdown",
   "id": "ab7cd321-1222-4f56-b0bc-09a6854f35ab",
   "metadata": {
    "panel-layout": {
     "height": 60.616668701171875,
     "visible": true,
     "width": 100
    }
   },
   "source": [
    "# isidentifier():Checks for valid identifier means it check if a string is a valid variable name"
   ]
  },
  {
   "cell_type": "code",
   "execution_count": 279,
   "id": "59b73b32-4f94-4491-8f37-754d644cdb59",
   "metadata": {
    "panel-layout": {
     "height": 0,
     "visible": true,
     "width": 100
    }
   },
   "outputs": [
    {
     "name": "stdout",
     "output_type": "stream",
     "text": [
      "False\n"
     ]
    }
   ],
   "source": [
    "challenge = '30DaysOfPython'\n",
    "print(challenge.isidentifier())"
   ]
  },
  {
   "cell_type": "code",
   "execution_count": 285,
   "id": "8436b22b-e373-48e9-a37e-56b16f51ff3e",
   "metadata": {
    "panel-layout": {
     "height": 0,
     "visible": true,
     "width": 100
    }
   },
   "outputs": [
    {
     "name": "stdout",
     "output_type": "stream",
     "text": [
      "True\n"
     ]
    }
   ],
   "source": [
    "challenge = 'DaysOfPython90'\n",
    "print(challenge.isidentifier())"
   ]
  },
  {
   "cell_type": "code",
   "execution_count": 281,
   "id": "9a49c79d-ab3a-4a49-b5f9-f727c2f35531",
   "metadata": {
    "panel-layout": {
     "height": 0,
     "visible": true,
     "width": 100
    }
   },
   "outputs": [
    {
     "name": "stdout",
     "output_type": "stream",
     "text": [
      "True\n"
     ]
    }
   ],
   "source": [
    "challenge = 'thirty_days_of_python'\n",
    "print(challenge.isidentifier())"
   ]
  },
  {
   "cell_type": "code",
   "execution_count": 283,
   "id": "93cab414-f06c-4c41-a87f-625912657172",
   "metadata": {
    "panel-layout": {
     "height": 0,
     "visible": true,
     "width": 100
    }
   },
   "outputs": [
    {
     "name": "stdout",
     "output_type": "stream",
     "text": [
      "False\n"
     ]
    }
   ],
   "source": [
    "challenge = 'thirty days_of_python'\n",
    "print(challenge.isidentifier())"
   ]
  },
  {
   "cell_type": "markdown",
   "id": "b806f8a8-0602-4190-bc36-d75a23906f8a",
   "metadata": {
    "panel-layout": {
     "height": 60.616668701171875,
     "visible": true,
     "width": 100
    }
   },
   "source": [
    "# islower():Checks if all alphabets in a string are lowercase"
   ]
  },
  {
   "cell_type": "code",
   "execution_count": 288,
   "id": "74785586-6293-4820-861b-97111bf42ebd",
   "metadata": {
    "panel-layout": {
     "height": 0,
     "visible": true,
     "width": 100
    }
   },
   "outputs": [
    {
     "name": "stdout",
     "output_type": "stream",
     "text": [
      "True\n"
     ]
    }
   ],
   "source": [
    "challenge = 'thirty days of python'\n",
    "print(challenge.islower())"
   ]
  },
  {
   "cell_type": "code",
   "execution_count": 290,
   "id": "74ba5fe9-f411-49ba-a9d9-500f6f380b49",
   "metadata": {
    "panel-layout": {
     "height": 0,
     "visible": true,
     "width": 100
    }
   },
   "outputs": [
    {
     "name": "stdout",
     "output_type": "stream",
     "text": [
      "False\n"
     ]
    }
   ],
   "source": [
    "challenge = 'Thirty days of python'\n",
    "print(challenge.islower())"
   ]
  },
  {
   "cell_type": "markdown",
   "id": "262cc62f-aa84-4733-99bb-5fc3db3ada5f",
   "metadata": {
    "panel-layout": {
     "height": 60.616668701171875,
     "visible": true,
     "width": 100
    }
   },
   "source": [
    "# isupper(): returns if all characters are uppercase characters"
   ]
  },
  {
   "cell_type": "code",
   "execution_count": 293,
   "id": "4c717cd4-0b2b-413f-9b64-229c8d604ea1",
   "metadata": {
    "panel-layout": {
     "height": 0,
     "visible": true,
     "width": 100
    }
   },
   "outputs": [
    {
     "name": "stdout",
     "output_type": "stream",
     "text": [
      "False\n"
     ]
    }
   ],
   "source": [
    "challenge = 'thirty days of python'\n",
    "print(challenge.isupper())"
   ]
  },
  {
   "cell_type": "code",
   "execution_count": 295,
   "id": "da3e821b-d7d5-4335-add7-2a14a3179081",
   "metadata": {
    "panel-layout": {
     "height": 0,
     "visible": true,
     "width": 100
    }
   },
   "outputs": [
    {
     "name": "stdout",
     "output_type": "stream",
     "text": [
      "True\n"
     ]
    }
   ],
   "source": [
    "challenge = 'THIRTY DAYS OF PYTHON'\n",
    "print(challenge.isupper())"
   ]
  },
  {
   "cell_type": "markdown",
   "id": "a3f0014f-0179-419b-9cbd-7e4d5cbf721f",
   "metadata": {
    "panel-layout": {
     "height": 60.616668701171875,
     "visible": true,
     "width": 100
    }
   },
   "source": [
    "# isnumeric():Checks numeric characters"
   ]
  },
  {
   "cell_type": "code",
   "execution_count": 298,
   "id": "359b3239-4ad6-4698-b2da-777fc5ef9306",
   "metadata": {
    "panel-layout": {
     "height": 0,
     "visible": true,
     "width": 100
    }
   },
   "outputs": [
    {
     "name": "stdout",
     "output_type": "stream",
     "text": [
      "True\n"
     ]
    }
   ],
   "source": [
    "num = '10'\n",
    "print(num.isnumeric())"
   ]
  },
  {
   "cell_type": "code",
   "execution_count": 300,
   "id": "4990b2e7-612a-4b36-bb8a-51511935173a",
   "metadata": {
    "panel-layout": {
     "height": 0,
     "visible": true,
     "width": 100
    }
   },
   "outputs": [
    {
     "name": "stdout",
     "output_type": "stream",
     "text": [
      "False\n"
     ]
    }
   ],
   "source": [
    "print('ten'.isnumeric())"
   ]
  },
  {
   "cell_type": "markdown",
   "id": "a9b0a566-9c2b-4c5f-bfe5-75ac3ec64577",
   "metadata": {
    "panel-layout": {
     "height": 60.616668701171875,
     "visible": true,
     "width": 100
    }
   },
   "source": [
    "# join(): Returns a concatenated string"
   ]
  },
  {
   "cell_type": "code",
   "execution_count": 303,
   "id": "c530dce6-15fa-4e03-a26a-282186ee74ea",
   "metadata": {
    "panel-layout": {
     "height": 0,
     "visible": true,
     "width": 100
    }
   },
   "outputs": [
    {
     "name": "stdout",
     "output_type": "stream",
     "text": [
      "HTML#, CSS#, JavaScript#, React\n"
     ]
    }
   ],
   "source": [
    "web_tech = ['HTML', 'CSS', 'JavaScript', 'React']\n",
    "result = '#, '.join(web_tech)\n",
    "print(result)"
   ]
  },
  {
   "cell_type": "markdown",
   "id": "e7961d22-60d7-4088-87bf-806de64b61ce",
   "metadata": {
    "panel-layout": {
     "height": 60.616668701171875,
     "visible": true,
     "width": 100
    }
   },
   "source": [
    "# strip(): Removes both leading and trailing characters"
   ]
  },
  {
   "cell_type": "code",
   "execution_count": 308,
   "id": "f836862d-2e24-42ed-9a92-39de26dc774d",
   "metadata": {
    "panel-layout": {
     "height": 0,
     "visible": true,
     "width": 100
    }
   },
   "outputs": [
    {
     "name": "stdout",
     "output_type": "stream",
     "text": [
      " thirty days of python \n"
     ]
    }
   ],
   "source": [
    "challenge = ' thirty days of python '\n",
    "print(challenge.strip('y'))"
   ]
  },
  {
   "cell_type": "markdown",
   "id": "5aaf7305-8030-43d3-8277-e44932b3f8db",
   "metadata": {
    "panel-layout": {
     "height": 60.616668701171875,
     "visible": true,
     "width": 100
    }
   },
   "source": [
    "# replace(): Replaces substring inside"
   ]
  },
  {
   "cell_type": "code",
   "execution_count": 311,
   "id": "9772a262-da91-44e9-bd69-2fe833e58f72",
   "metadata": {
    "panel-layout": {
     "height": 0,
     "visible": true,
     "width": 100
    }
   },
   "outputs": [
    {
     "name": "stdout",
     "output_type": "stream",
     "text": [
      "thirty days of coding\n"
     ]
    }
   ],
   "source": [
    "challenge = 'thirty days of python'\n",
    "print(challenge.replace('python', 'coding'))"
   ]
  },
  {
   "cell_type": "markdown",
   "id": "aa205818-5684-4a79-a63f-1ad13d22a635",
   "metadata": {
    "panel-layout": {
     "height": 60.616668701171875,
     "visible": true,
     "width": 100
    }
   },
   "source": [
    "# split():Splits String from Left"
   ]
  },
  {
   "cell_type": "code",
   "execution_count": 314,
   "id": "da94c97f-7f19-4ccf-9836-0f57c44114e2",
   "metadata": {
    "panel-layout": {
     "height": 0,
     "visible": true,
     "width": 100
    }
   },
   "outputs": [
    {
     "name": "stdout",
     "output_type": "stream",
     "text": [
      "['thirty', 'days', 'of', 'python']\n"
     ]
    }
   ],
   "source": [
    "challenge = 'thirty days of python'\n",
    "print(challenge.split())"
   ]
  },
  {
   "cell_type": "code",
   "execution_count": 316,
   "id": "0edf7c35-bf06-4c31-93dc-a81000bea235",
   "metadata": {
    "panel-layout": {
     "height": 0,
     "visible": true,
     "width": 100
    }
   },
   "outputs": [
    {
     "name": "stdout",
     "output_type": "stream",
     "text": [
      "['thirtydaysofpython']\n"
     ]
    }
   ],
   "source": [
    "challenge = 'thirtydaysofpython'\n",
    "print(challenge.split())"
   ]
  },
  {
   "cell_type": "markdown",
   "id": "dea6bbeb-cb2e-42fb-b38c-a8c4a97c5ea5",
   "metadata": {
    "panel-layout": {
     "height": 60.616668701171875,
     "visible": true,
     "width": 100
    }
   },
   "source": [
    "# title(): Returns a Title Cased String"
   ]
  },
  {
   "cell_type": "code",
   "execution_count": 319,
   "id": "15de1eb9-4ca4-486d-b682-653dfcbe4da8",
   "metadata": {
    "panel-layout": {
     "height": 0,
     "visible": true,
     "width": 100
    }
   },
   "outputs": [
    {
     "name": "stdout",
     "output_type": "stream",
     "text": [
      "Thirty Days Of Python\n"
     ]
    }
   ],
   "source": [
    "challenge = 'thirty days of python'\n",
    "print(challenge.title())"
   ]
  },
  {
   "cell_type": "markdown",
   "id": "ddfc147e-b5b7-45ac-83f3-8ffe3014d961",
   "metadata": {
    "panel-layout": {
     "height": 60.616668701171875,
     "visible": true,
     "width": 100
    }
   },
   "source": [
    "# swapcase(): Checks if String Starts with the Specified String"
   ]
  },
  {
   "cell_type": "code",
   "execution_count": 322,
   "id": "6e193229-383b-4770-92bb-5e3b7064f5f4",
   "metadata": {
    "panel-layout": {
     "height": 0,
     "visible": true,
     "width": 100
    }
   },
   "outputs": [
    {
     "name": "stdout",
     "output_type": "stream",
     "text": [
      "THIRTY DAYS OF PYTHON\n"
     ]
    }
   ],
   "source": [
    "challenge = 'thirty days of python'\n",
    "print(challenge.swapcase()) "
   ]
  },
  {
   "cell_type": "code",
   "execution_count": 324,
   "id": "844c6cc0-f72b-4ed5-ac72-b2e7610061f2",
   "metadata": {
    "panel-layout": {
     "height": 0,
     "visible": true,
     "width": 100
    }
   },
   "outputs": [
    {
     "name": "stdout",
     "output_type": "stream",
     "text": [
      "thirty days of python\n"
     ]
    }
   ],
   "source": [
    "challenge = 'THIRTY DAYS OF PYTHON'\n",
    "print(challenge.swapcase()) "
   ]
  },
  {
   "cell_type": "code",
   "execution_count": 326,
   "id": "49d1ff58-738f-488d-bc97-53df89d9ee19",
   "metadata": {
    "panel-layout": {
     "height": 0,
     "visible": true,
     "width": 100
    }
   },
   "outputs": [
    {
     "name": "stdout",
     "output_type": "stream",
     "text": [
      "tHIRTY dAYS oF pYTHON\n"
     ]
    }
   ],
   "source": [
    "challenge = 'Thirty Days Of Python'\n",
    "print(challenge.swapcase())"
   ]
  },
  {
   "cell_type": "markdown",
   "id": "1b4c4690-9623-479f-b224-e7b101d9157f",
   "metadata": {
    "panel-layout": {
     "height": 60.616668701171875,
     "visible": true,
     "width": 100
    }
   },
   "source": [
    "# startswith(): Checks if String Starts with the Specified String"
   ]
  },
  {
   "cell_type": "code",
   "execution_count": 329,
   "id": "6f32a472-f452-4784-b8e4-ffec6e85299d",
   "metadata": {
    "panel-layout": {
     "height": 0,
     "visible": true,
     "width": 100
    }
   },
   "outputs": [
    {
     "name": "stdout",
     "output_type": "stream",
     "text": [
      "True\n"
     ]
    }
   ],
   "source": [
    "challenge = 'thirty days of python'\n",
    "print(challenge.startswith('thirty'))"
   ]
  },
  {
   "cell_type": "code",
   "execution_count": 331,
   "id": "8c9d1e2a-a282-49d9-8804-5831e19352ba",
   "metadata": {
    "panel-layout": {
     "height": 0,
     "visible": true,
     "width": 100
    }
   },
   "outputs": [
    {
     "name": "stdout",
     "output_type": "stream",
     "text": [
      "False\n"
     ]
    }
   ],
   "source": [
    "challenge = '30 days of python'\n",
    "print(challenge.startswith('thirty'))"
   ]
  },
  {
   "cell_type": "code",
   "execution_count": null,
   "id": "1ab8e5cf-8d09-42d9-9883-2879612f0369",
   "metadata": {},
   "outputs": [],
   "source": []
  }
 ],
 "metadata": {
  "kernelspec": {
   "display_name": "Python 3 (ipykernel)",
   "language": "python",
   "name": "python3"
  },
  "language_info": {
   "codemirror_mode": {
    "name": "ipython",
    "version": 3
   },
   "file_extension": ".py",
   "mimetype": "text/x-python",
   "name": "python",
   "nbconvert_exporter": "python",
   "pygments_lexer": "ipython3",
   "version": "3.12.4"
  },
  "panel-cell-order": [
   "f8a1a2c8-4f19-4df1-b0ff-4be5ca549732",
   "86b427b7-f5d6-462f-b1f0-3cc198b111b5",
   "9fd8982a-a400-48b1-856a-23fbd96d150e",
   "3999c2cb-282f-4888-b57b-9445a9f880df",
   "b45b78ca-e63b-41c7-bf4e-524b4129ccec",
   "14bdb82d-1b56-4f05-a901-6f41a0d36c59",
   "97b7d3b4-5933-4c8b-9abe-33bd971c4fd9",
   "398e1743-c4c2-45fd-bc1b-7ab8f6eb85ad",
   "90b15da5-e96a-42eb-83d3-2b75118b4a80",
   "fd1033f3-3cf2-4845-a083-7bbb32711ddd",
   "cf844a43-23a9-4573-b828-33069a6043f8",
   "6a7143eb-e820-4a18-a7a6-7110b64f9d84",
   "400f86ad-4480-4fe3-9317-486a88fb12e4",
   "0e693bee-f5f8-49c4-92cc-f9fe6a6804c7",
   "2c3825c4-c82e-40ab-989a-67b1a1a26b6d",
   "638c842f-3b08-4449-ab62-bd36358d4f5a",
   "70dd8ee1-d7ab-4d39-b21f-f239087e0683",
   "45910fb8-3296-4a11-8c4c-fa77b77795d1",
   "4ac2db1a-6ccb-4e1b-975f-f7bd41fd99df",
   "462e2a76-266e-41fc-871c-bf1fab477fa3",
   "d8090e58-1b49-475c-84c2-bae5bef438dd",
   "45b5f5e5-7b9a-4b3e-a2ac-87ee716e6c1c",
   "5f258d58-009c-4b0c-b8ec-5052269b5c5b",
   "b7748106-3fd2-43a6-8571-1e56c9fc09ac",
   "cfef6334-fbb4-4b1f-bec3-519921c30fee",
   "0a73cb0d-32a8-44dc-b812-168659be48ef",
   "0716883e-15a7-4eec-902c-796899c76a7e",
   "8c5ae98e-60f7-4a8a-b9f2-7e3dd2af096c",
   "03c50706-0987-4048-8764-6fce440a399b",
   "9fb60887-353c-4bd5-a246-b9fc0cae5097",
   "06c2b9ad-3a32-42dd-b746-e3adb75e648d",
   "ae5ceeaa-1a09-4697-a0ab-e8dff74b8607",
   "dbfee2de-bd85-4e1b-8c32-3902b7d3d712",
   "e5e2f8db-bbe1-43a4-86ff-d788494a1995",
   "bed4e34a-c4cc-43cc-9ec2-6d10fcca3443",
   "07827303-3b59-4d68-84dc-ab618588ed8e",
   "21483c7f-e360-473c-ba47-9d7a50289ff9",
   "820b9283-2cfc-488e-a07b-70a5e7d0becb",
   "53c2a8fe-4447-4ec5-99da-e4a52a1d3c7b",
   "1658bfa2-30ee-4bca-939b-b667c288f50d",
   "b80fde28-a144-41b8-b526-1d1b23085762",
   "9e4a7859-91e8-4e23-96d0-583e6d56393e",
   "5dcbc9ce-0b60-439a-8462-4ec24b0241ac",
   "e8b74521-f5c6-43d5-afc9-eb7d744012bf",
   "172ea9f0-1ae6-4adc-85ff-30ffbf19f456",
   "021c523d-419b-4094-9981-cf06a27f7376",
   "08fe0965-487f-4eaf-a998-685acc00dd5e",
   "d0bbe966-57f5-4968-affa-b3a82c7f0d28",
   "a3cfecbe-642b-49e7-a653-865eead9527e",
   "e874d84b-e996-4f71-80d5-a4d123dd5150",
   "a691c540-03ac-4b21-97a7-abd351b158c5",
   "4c1f7796-2ba1-40f0-951a-5f2ae697d059",
   "74c7a390-b74b-47c0-9fe0-793777236df1",
   "2ded0d27-90eb-481a-90c1-6d8ee19af8cb",
   "40e4b17e-fd34-4f69-bed1-5b75e9b2bcca",
   "9e2e1801-1518-4d01-b70d-6efd26fbbfa9",
   "dd09fbf1-e7d6-4b0a-ae6d-ab288da983a5",
   "b3f2917e-dee9-4257-b220-016459ff94c7",
   "6fb9af86-273d-4c38-bcfc-57283506a081",
   "0a3d4cec-0b24-4ffd-8d1a-6eb4f0b31550",
   "b3e787f7-35ee-44c3-be7a-b1d8b36b0966",
   "3c5eaaa5-a831-489e-a371-93124ef416e8",
   "b4915830-7e00-4f24-8dfe-55661c3facb8",
   "5540a416-0a8a-444c-a0f1-a8b93805ae8b",
   "d7c95f28-1f96-428f-b6f8-af67e7f8b182",
   "17e6b9bd-fea8-4374-818e-6dfd8a01391f",
   "4a8ef4d4-1fa3-4b13-bda4-5a5b4e4f083d",
   "a809d598-f596-4de3-a78f-73e06b1f1ff1",
   "63391162-dd4f-475d-aeea-2a44832abf0c",
   "fa43f699-1644-4207-be9d-dc928599a2f6",
   "b1eb4045-5ca4-4cc8-96d3-e1ab48a7ffb2",
   "97bc7106-e6ad-48fb-b78e-fce4b004eca3",
   "8fcbfd7c-26bd-4262-a410-6472739b8d3e",
   "cc8d5f13-3feb-466d-9b30-47016707a9eb",
   "714a7470-be4d-48dd-b108-a386a6907d67",
   "176303c6-42a7-415f-8d1f-35ac8df3a022",
   "c621c517-aee3-4bfa-81d3-40a9910c06f9",
   "8cda8f27-e6c3-4d78-9706-c89050e6428d",
   "28f1a12d-e949-496f-be7b-efa64a62d9c9",
   "ec6a7945-dec9-47bc-8252-f04ed83832b3",
   "0febcb58-9b95-4e9b-99bd-c70423fcfc8c",
   "c7d27778-1aeb-404f-bd4e-0d6b27b13854",
   "42c685cc-7cf1-4739-9496-7dfa8aadc154",
   "d0168c54-0fcb-4a4b-993d-b6eca42bc86b",
   "37a12e25-a270-4a19-86d1-c3e87fd11286",
   "4102f139-7baf-4cc1-ba0b-35078c028149",
   "161558b3-b8d8-45bf-84b5-2efcd432b0e5",
   "110eaec2-05fe-407c-ab52-0040c69eb1a7",
   "ab7cd321-1222-4f56-b0bc-09a6854f35ab",
   "59b73b32-4f94-4491-8f37-754d644cdb59",
   "8436b22b-e373-48e9-a37e-56b16f51ff3e",
   "9a49c79d-ab3a-4a49-b5f9-f727c2f35531",
   "93cab414-f06c-4c41-a87f-625912657172",
   "b806f8a8-0602-4190-bc36-d75a23906f8a",
   "74785586-6293-4820-861b-97111bf42ebd",
   "74ba5fe9-f411-49ba-a9d9-500f6f380b49",
   "262cc62f-aa84-4733-99bb-5fc3db3ada5f",
   "4c717cd4-0b2b-413f-9b64-229c8d604ea1",
   "da3e821b-d7d5-4335-add7-2a14a3179081",
   "a3f0014f-0179-419b-9cbd-7e4d5cbf721f",
   "359b3239-4ad6-4698-b2da-777fc5ef9306",
   "4990b2e7-612a-4b36-bb8a-51511935173a",
   "a9b0a566-9c2b-4c5f-bfe5-75ac3ec64577",
   "c530dce6-15fa-4e03-a26a-282186ee74ea",
   "e7961d22-60d7-4088-87bf-806de64b61ce",
   "f836862d-2e24-42ed-9a92-39de26dc774d",
   "5aaf7305-8030-43d3-8277-e44932b3f8db",
   "9772a262-da91-44e9-bd69-2fe833e58f72",
   "aa205818-5684-4a79-a63f-1ad13d22a635",
   "da94c97f-7f19-4ccf-9836-0f57c44114e2",
   "0edf7c35-bf06-4c31-93dc-a81000bea235",
   "dea6bbeb-cb2e-42fb-b38c-a8c4a97c5ea5",
   "15de1eb9-4ca4-486d-b682-653dfcbe4da8",
   "ddfc147e-b5b7-45ac-83f3-8ffe3014d961",
   "6e193229-383b-4770-92bb-5e3b7064f5f4",
   "844c6cc0-f72b-4ed5-ac72-b2e7610061f2",
   "49d1ff58-738f-488d-bc97-53df89d9ee19",
   "1b4c4690-9623-479f-b224-e7b101d9157f",
   "6f32a472-f452-4784-b8e4-ffec6e85299d",
   "8c9d1e2a-a282-49d9-8804-5831e19352ba"
  ]
 },
 "nbformat": 4,
 "nbformat_minor": 5
}
